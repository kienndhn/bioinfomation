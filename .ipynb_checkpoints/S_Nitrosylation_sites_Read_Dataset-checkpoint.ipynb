{
 "cells": [
  {
   "cell_type": "markdown",
   "id": "093d6171",
   "metadata": {},
   "source": [
    "# Xác định vị trí S-Nitrosyl hóa trong protein\n",
    "\n",
    " Nguyễn Hồng Quang\n",
    " \n",
    " Khoa Kỹ thuật máy tính\n",
    " \n",
    " Trường Công nghệ thông tin và Truyền thông\n",
    " \n",
    " Trường Đại học Bách Khoa Hà Nội\n",
    " \n",
    " Tháng 12 / 2021\n",
    "\n",
    " Reference: https://ieeexplore.ieee.org/abstract/document/9313999/media#media\n",
    "A. Siraj, T. Chantsalnyam, H. Tayara and K. T. Chong, \"RecSNO: Prediction of Protein S-Nitrosylation Sites Using a Recurrent Neural Network,\" in IEEE Access, vol. 9, pp. 6674-6682, 2021, doi: 10.1109/ACCESS.2021.3049142.\n",
    "\n",
    "# Bài toán:\n",
    "Một chuỗi 41 ký tự với ký tự C ở giữa\n",
    "\n",
    "Ví dụ: MAQDQGEKENPMRELRIRKLCLNICVGESGDRLTRAAKVLE\n",
    "\n",
    "Phải phân loại chuỗi này thành 2 loại: nonSNO và SNO \n",
    "\n",
    "# Dataset: \n",
    "Tập dữ liệu training: 3383 positive and 3365 negative sites (hiện tại đã có)\n",
    "\n",
    "Tập dữ liệu test: contain 351 positive and 3168 negative sites (hiện tại chưa có, mới chỉ có vị trí ở trong file S-nitrosylation datasets-PreSNO_test.csv )\n",
    "\n"
   ]
  },
  {
   "cell_type": "code",
   "execution_count": 1,
   "id": "c1df730c",
   "metadata": {},
   "outputs": [],
   "source": [
    "file_test = \"test.csv\"\n",
    "file_train = \"train.csv\""
   ]
  },
  {
   "cell_type": "code",
   "execution_count": 2,
   "id": "b1f50c74",
   "metadata": {},
   "outputs": [
    {
     "name": "stdout",
     "output_type": "stream",
     "text": [
      ",Independent DataSet,,\n",
      "\n",
      "Protein_ID,Location,Status,Fragment\n",
      "\n",
      "Q810U3,118,SNO,TLVIDFRSGGRPEEYEGEYQCFARNKFGTALSNRIRLQVSK\n",
      "\n",
      "Tổng số chuỗi:  3519\n",
      "Tổng số mẫu positive:  351\n",
      "Tổng số mẫu negative:  3168\n"
     ]
    }
   ],
   "source": [
    "# dataset tổ chức như một dictionary, gồm có 2 keys: sequences và labels\n",
    "# + sequences : là một list các sequences\n",
    "# + labels: là một list các labels \"+1\" cho postive và \"-1\" cho negative\n",
    "def read_file_dataset(file_dataset): \n",
    "    nb_positive = 0\n",
    "    nb_negative = 0\n",
    "    \n",
    "    dataset = {}\n",
    "    dataset[\"sequences\"] = []\n",
    "    dataset[\"labels\"] = []\n",
    "    \n",
    "    f = open(file_dataset, \"r\")\n",
    "    lines = f.readlines()\n",
    "    f.close()\n",
    "    \n",
    "    print(lines[0])\n",
    "    print(lines[1])\n",
    "    print(lines[2])\n",
    "    \n",
    "    print(\"Tổng số chuỗi: \", len(lines) - 2)\n",
    "    \n",
    "    for line in lines[2:]:\n",
    "        seq = line.strip().split(\",\")[3]\n",
    "        #print(seq)\n",
    "        label = line.strip().split(\",\")[2]\n",
    "        #print(label)\n",
    "        \n",
    "        if label == \"SNO\": nb_positive += 1\n",
    "        if label == \"nonSNO\": nb_negative += 1\n",
    "        \n",
    "        dataset[\"sequences\"].append(seq)\n",
    "        dataset[\"labels\"].append(label)\n",
    "        \n",
    "        #break\n",
    "    \n",
    "    print(\"Tổng số mẫu positive: \", nb_positive)\n",
    "    print(\"Tổng số mẫu negative: \", nb_negative)\n",
    "    \n",
    "    return dataset\n",
    "    \n",
    "dataset = read_file_dataset(file_test)"
   ]
  },
  {
   "cell_type": "code",
   "execution_count": 3,
   "id": "e393fd02",
   "metadata": {},
   "outputs": [
    {
     "name": "stdout",
     "output_type": "stream",
     "text": [
      ",Training DataSet,,\n",
      "\n",
      "Protein_ID,Location,Status,Fragment\n",
      "\n",
      "P04117,118,SNO,WDGKSTTIKRKRDGDKLVVECVMKGVTSTRVYERA------\n",
      "\n",
      "Tổng số chuỗi:  6748\n",
      "Tổng số mẫu positive:  3383\n",
      "Tổng số mẫu negative:  3365\n"
     ]
    }
   ],
   "source": [
    "dataset = read_file_dataset(file_train)"
   ]
  },
  {
   "cell_type": "code",
   "execution_count": 4,
   "id": "bc920ff7",
   "metadata": {},
   "outputs": [],
   "source": [
    "X = dataset['sequences']\n",
    "y = dataset['labels']"
   ]
  },
  {
   "cell_type": "code",
   "execution_count": 40,
   "id": "a1bdc039",
   "metadata": {},
   "outputs": [
    {
     "ename": "ModuleNotFoundError",
     "evalue": "No module named 'seaborn'",
     "output_type": "error",
     "traceback": [
      "\u001b[1;31m---------------------------------------------------------------------------\u001b[0m",
      "\u001b[1;31mModuleNotFoundError\u001b[0m                       Traceback (most recent call last)",
      "\u001b[1;32mC:\\Users\\INSPIR~1\\AppData\\Local\\Temp/ipykernel_17296/946076493.py\u001b[0m in \u001b[0;36m<module>\u001b[1;34m\u001b[0m\n\u001b[0;32m     15\u001b[0m \u001b[1;32mimport\u001b[0m \u001b[0mpandas\u001b[0m \u001b[1;32mas\u001b[0m \u001b[0mpd\u001b[0m\u001b[1;33m\u001b[0m\u001b[1;33m\u001b[0m\u001b[0m\n\u001b[0;32m     16\u001b[0m \u001b[1;32mimport\u001b[0m \u001b[0mmatplotlib\u001b[0m\u001b[1;33m.\u001b[0m\u001b[0mpyplot\u001b[0m \u001b[1;32mas\u001b[0m \u001b[0mplt\u001b[0m\u001b[1;33m\u001b[0m\u001b[1;33m\u001b[0m\u001b[0m\n\u001b[1;32m---> 17\u001b[1;33m \u001b[1;32mimport\u001b[0m \u001b[0mseaborn\u001b[0m \u001b[1;32mas\u001b[0m \u001b[0msns\u001b[0m\u001b[1;33m\u001b[0m\u001b[1;33m\u001b[0m\u001b[0m\n\u001b[0m",
      "\u001b[1;31mModuleNotFoundError\u001b[0m: No module named 'seaborn'"
     ]
    }
   ],
   "source": [
    "from sklearn.preprocessing import LabelEncoder\n",
    "import numpy as np\n",
    "from keras.models import Model\n",
    "from keras.regularizers import l2\n",
    "from keras.constraints import max_norm\n",
    "from keras.utils import to_categorical\n",
    "from keras.preprocessing.text import Tokenizer\n",
    "from keras.preprocessing.sequence import pad_sequences\n",
    "from keras.callbacks import EarlyStopping\n",
    "from keras.layers import Input, Dense, Dropout, Flatten, Activation\n",
    "from keras.layers import Conv1D, Add, MaxPooling1D, BatchNormalization\n",
    "from keras.layers import Embedding, Bidirectional, CuDNNLSTM, GlobalMaxPooling1D, LSTM\n",
    "from sklearn.model_selection import train_test_split\n",
    "\n",
    "import pandas as pd\n",
    "import matplotlib.pyplot as plt\n",
    "import seaborn as sns"
   ]
  },
  {
   "cell_type": "code",
   "execution_count": 6,
   "id": "1f091562",
   "metadata": {},
   "outputs": [
    {
     "name": "stdout",
     "output_type": "stream",
     "text": [
      "{'A': 1, 'C': 2, 'D': 3, 'E': 4, 'F': 5, 'G': 6, 'H': 7, 'I': 8, 'K': 9, 'L': 10, 'M': 11, 'N': 12, 'O': 13, 'P': 14, 'Q': 15, 'R': 16, 'S': 17, 'T': 18, 'U': 19, 'V': 20, 'W': 21, 'Y': 22, '-': 23}\n",
      "Dict Length: 23\n"
     ]
    }
   ],
   "source": [
    "codes = ['A', 'C', 'D', 'E', 'F', 'G', 'H', 'I', 'K', 'L',\n",
    "         'M', 'N', 'O', 'P', 'Q', 'R', 'S', 'T', 'U','V', 'W', 'Y', '-']\n",
    "\n",
    "def create_dict(codes):\n",
    "  char_dict = {}\n",
    "  for index, val in enumerate(codes):\n",
    "    char_dict[val] = index+1\n",
    "\n",
    "  return char_dict\n",
    "\n",
    "char_dict = create_dict(codes)\n",
    "\n",
    "print(char_dict)\n",
    "print(\"Dict Length:\", len(char_dict))"
   ]
  },
  {
   "cell_type": "code",
   "execution_count": 7,
   "id": "8b190053",
   "metadata": {},
   "outputs": [],
   "source": [
    "\n",
    "\n",
    "def integer_encoding(data):\n",
    "  \"\"\"\n",
    "  - Encodes code sequence to integer values.\n",
    "  - 20 common amino acids are taken into consideration\n",
    "    and rest 4 are categorized as 0.\n",
    "  \"\"\"\n",
    "  \n",
    "  encode_list = []\n",
    "  for i in range(len(data)):\n",
    "    row_encode = []\n",
    "#     for code in row:\n",
    "#       \n",
    "#     encode_list.append(np.array(row_encode))\n",
    "    for x in data[i]:\n",
    "        row_encode.append(char_dict.get(x, 0))\n",
    "    encode_list.append(np.array(row_encode))\n",
    "    \n",
    "  \n",
    "  return np.asarray(encode_list)\n",
    "  \n",
    "X_encode = integer_encoding(X)\n",
    "# val_encode = integer_encoding(val_sm) \n",
    "# test_encode = integer_encoding(test_sm) "
   ]
  },
  {
   "cell_type": "code",
   "execution_count": null,
   "id": "30807230",
   "metadata": {},
   "outputs": [],
   "source": []
  },
  {
   "cell_type": "code",
   "execution_count": null,
   "id": "7e950a2e",
   "metadata": {},
   "outputs": [],
   "source": []
  },
  {
   "cell_type": "code",
   "execution_count": 8,
   "id": "6e55606a",
   "metadata": {},
   "outputs": [
    {
     "data": {
      "text/plain": [
       "((6748, 41), (6748, 41, 24))"
      ]
     },
     "execution_count": 8,
     "metadata": {},
     "output_type": "execute_result"
    }
   ],
   "source": [
    "max_length = 41\n",
    "X_pad = pad_sequences(X_encode, maxlen=max_length, padding='post', truncating='post')\n",
    "X_ohe = to_categorical(X_pad)\n",
    "X_pad.shape, X_ohe.shape"
   ]
  },
  {
   "cell_type": "code",
   "execution_count": 9,
   "id": "3fceeb9e",
   "metadata": {},
   "outputs": [
    {
     "data": {
      "text/plain": [
       "((6748,), 2)"
      ]
     },
     "execution_count": 9,
     "metadata": {},
     "output_type": "execute_result"
    }
   ],
   "source": [
    "out_encoder = LabelEncoder()\n",
    "y_le = out_encoder.fit_transform(y)\n",
    "y_le.shape, len(out_encoder.classes_)"
   ]
  },
  {
   "cell_type": "code",
   "execution_count": 10,
   "id": "5187319e",
   "metadata": {},
   "outputs": [],
   "source": [
    "y_cate = to_categorical(y_le)"
   ]
  },
  {
   "cell_type": "code",
   "execution_count": null,
   "id": "7dd5f99e",
   "metadata": {},
   "outputs": [],
   "source": []
  },
  {
   "cell_type": "code",
   "execution_count": 11,
   "id": "65a353fe",
   "metadata": {},
   "outputs": [],
   "source": [
    "def display_model_score(model, train, val, test, batch_size):\n",
    "\n",
    "  train_score = model.evaluate(train[0], train[1], batch_size=batch_size, verbose=1)\n",
    "  print('Train loss: ', train_score[0])\n",
    "  print('Train accuracy: ', train_score[1])\n",
    "  print('-'*70)\n",
    "\n",
    "  val_score = model.evaluate(val[0], val[1], batch_size=batch_size, verbose=1)\n",
    "  print('Val loss: ', val_score[0])\n",
    "  print('Val accuracy: ', val_score[1])\n",
    "  print('-'*70)\n",
    "  \n",
    "  test_score = model.evaluate(test[0], test[1], batch_size=batch_size, verbose=1)\n",
    "  print('Test loss: ', test_score[0])\n",
    "  print('Test accuracy: ', test_score[1])"
   ]
  },
  {
   "cell_type": "code",
   "execution_count": 12,
   "id": "6b8ca017",
   "metadata": {},
   "outputs": [],
   "source": [
    "X_train, X_val, y_train, y_val = train_test_split(X_pad, y_cate, test_size=0.2, random_state=1)\n",
    "X_test, X_val, y_test, y_val = train_test_split(X_val, y_val, test_size=0.5, random_state=1)"
   ]
  },
  {
   "cell_type": "code",
   "execution_count": 30,
   "id": "cd9af09f",
   "metadata": {},
   "outputs": [],
   "source": [
    "from keras.layers import MaxPooling1D, Flatten"
   ]
  },
  {
   "cell_type": "code",
   "execution_count": 67,
   "id": "924c040a",
   "metadata": {},
   "outputs": [],
   "source": [
    "x_input = Input(shape=(41,))\n",
    "\n",
    "emb = Embedding(24, 64, input_length=max_length)(x_input)\n",
    "\n",
    "bi_rnn1 = Bidirectional(LSTM(32, kernel_regularizer=l2(0.0001), recurrent_regularizer=l2(0.0001), bias_regularizer=l2(0.0001), return_sequences=True))(emb)\n",
    "\n",
    "dropout1 = Dropout(0.1)(bi_rnn1)\n",
    "\n",
    "bi_rnn2 = Bidirectional(LSTM(24, kernel_regularizer=l2(0.0001), recurrent_regularizer=l2(0.0001), bias_regularizer=l2(0.0001), return_sequences=True))(dropout1)\n",
    "\n",
    "dropout2 = Dropout(0.2)(bi_rnn2)\n",
    "\n",
    "maxpooling=MaxPooling1D(pool_size=2)(dropout2)\n",
    "\n",
    "flatten = Flatten()(maxpooling)\n",
    "\n",
    "x = Dropout(0.2)(flatten)\n",
    "# softmax classifier\n",
    "x_output = Dense(2, activation='softmax')(x)\n",
    "\n",
    "model1 = Model(inputs=x_input, outputs=x_output)\n",
    "model1.compile(optimizer='adam', loss='categorical_crossentropy', metrics=['accuracy'])"
   ]
  },
  {
   "cell_type": "code",
   "execution_count": 68,
   "id": "c3575109",
   "metadata": {},
   "outputs": [
    {
     "name": "stdout",
     "output_type": "stream",
     "text": [
      "Model: \"model_7\"\n",
      "_________________________________________________________________\n",
      "Layer (type)                 Output Shape              Param #   \n",
      "=================================================================\n",
      "input_8 (InputLayer)         (None, 41)                0         \n",
      "_________________________________________________________________\n",
      "embedding_8 (Embedding)      (None, 41, 64)            1536      \n",
      "_________________________________________________________________\n",
      "bidirectional_10 (Bidirectio (None, 41, 64)            24832     \n",
      "_________________________________________________________________\n",
      "dropout_13 (Dropout)         (None, 41, 64)            0         \n",
      "_________________________________________________________________\n",
      "bidirectional_11 (Bidirectio (None, 41, 48)            17088     \n",
      "_________________________________________________________________\n",
      "dropout_14 (Dropout)         (None, 41, 48)            0         \n",
      "_________________________________________________________________\n",
      "max_pooling1d_4 (MaxPooling1 (None, 20, 48)            0         \n",
      "_________________________________________________________________\n",
      "flatten_4 (Flatten)          (None, 960)               0         \n",
      "_________________________________________________________________\n",
      "dropout_15 (Dropout)         (None, 960)               0         \n",
      "_________________________________________________________________\n",
      "dense_7 (Dense)              (None, 2)                 1922      \n",
      "=================================================================\n",
      "Total params: 45,378\n",
      "Trainable params: 45,378\n",
      "Non-trainable params: 0\n",
      "_________________________________________________________________\n"
     ]
    }
   ],
   "source": [
    "model1.summary()"
   ]
  },
  {
   "cell_type": "code",
   "execution_count": 69,
   "id": "fda379c7",
   "metadata": {},
   "outputs": [],
   "source": [
    "es = EarlyStopping(monitor='val_loss', patience=3, verbose=1)"
   ]
  },
  {
   "cell_type": "code",
   "execution_count": 70,
   "id": "e519992b",
   "metadata": {},
   "outputs": [
    {
     "name": "stdout",
     "output_type": "stream",
     "text": [
      "Train on 5398 samples, validate on 675 samples\n",
      "Epoch 1/50\n",
      "5398/5398 [==============================] - 7s 1ms/step - loss: 0.7325 - accuracy: 0.5741 - val_loss: 0.7046 - val_accuracy: 0.5674\n",
      "Epoch 2/50\n",
      "5398/5398 [==============================] - 5s 840us/step - loss: 0.6762 - accuracy: 0.6275 - val_loss: 0.6445 - val_accuracy: 0.6696\n",
      "Epoch 3/50\n",
      "5398/5398 [==============================] - 5s 852us/step - loss: 0.6509 - accuracy: 0.6528 - val_loss: 0.6295 - val_accuracy: 0.7022\n",
      "Epoch 4/50\n",
      "5398/5398 [==============================] - 5s 909us/step - loss: 0.6440 - accuracy: 0.6641 - val_loss: 0.6241 - val_accuracy: 0.6815\n",
      "Epoch 5/50\n",
      "5398/5398 [==============================] - 5s 852us/step - loss: 0.6395 - accuracy: 0.6677 - val_loss: 0.6238 - val_accuracy: 0.6889\n",
      "Epoch 6/50\n",
      "5398/5398 [==============================] - 5s 851us/step - loss: 0.6373 - accuracy: 0.6684 - val_loss: 0.6267 - val_accuracy: 0.6904\n",
      "Epoch 7/50\n",
      "5398/5398 [==============================] - 5s 845us/step - loss: 0.6310 - accuracy: 0.6665 - val_loss: 0.6079 - val_accuracy: 0.6904\n",
      "Epoch 8/50\n",
      "5398/5398 [==============================] - 5s 865us/step - loss: 0.6250 - accuracy: 0.6723 - val_loss: 0.6080 - val_accuracy: 0.6978\n",
      "Epoch 9/50\n",
      "5398/5398 [==============================] - 5s 843us/step - loss: 0.6238 - accuracy: 0.6715 - val_loss: 0.6105 - val_accuracy: 0.6948\n",
      "Epoch 10/50\n",
      "5398/5398 [==============================] - 5s 848us/step - loss: 0.6160 - accuracy: 0.6762 - val_loss: 0.6014 - val_accuracy: 0.6844\n",
      "Epoch 11/50\n",
      "5398/5398 [==============================] - 5s 852us/step - loss: 0.6114 - accuracy: 0.6814 - val_loss: 0.6032 - val_accuracy: 0.6815\n",
      "Epoch 12/50\n",
      "5398/5398 [==============================] - 5s 893us/step - loss: 0.6009 - accuracy: 0.6921 - val_loss: 0.5878 - val_accuracy: 0.6948\n",
      "Epoch 13/50\n",
      "5398/5398 [==============================] - 5s 881us/step - loss: 0.5950 - accuracy: 0.6954 - val_loss: 0.5723 - val_accuracy: 0.7022\n",
      "Epoch 14/50\n",
      "5398/5398 [==============================] - 5s 850us/step - loss: 0.5879 - accuracy: 0.6984 - val_loss: 0.5786 - val_accuracy: 0.7081\n",
      "Epoch 15/50\n",
      "5398/5398 [==============================] - 5s 885us/step - loss: 0.5879 - accuracy: 0.7058 - val_loss: 0.5689 - val_accuracy: 0.7067\n",
      "Epoch 16/50\n",
      "5398/5398 [==============================] - 5s 867us/step - loss: 0.5827 - accuracy: 0.7045 - val_loss: 0.5737 - val_accuracy: 0.7022\n",
      "Epoch 17/50\n",
      "5398/5398 [==============================] - 5s 904us/step - loss: 0.5775 - accuracy: 0.7114 - val_loss: 0.5811 - val_accuracy: 0.7052\n",
      "Epoch 18/50\n",
      "5398/5398 [==============================] - 5s 837us/step - loss: 0.5806 - accuracy: 0.7045 - val_loss: 0.5854 - val_accuracy: 0.7007\n",
      "Epoch 19/50\n",
      "5398/5398 [==============================] - 5s 866us/step - loss: 0.5753 - accuracy: 0.7064 - val_loss: 0.5691 - val_accuracy: 0.7215\n",
      "Epoch 20/50\n",
      "5398/5398 [==============================] - 5s 888us/step - loss: 0.5744 - accuracy: 0.7138 - val_loss: 0.5651 - val_accuracy: 0.7244\n",
      "Epoch 21/50\n",
      "5398/5398 [==============================] - 4s 809us/step - loss: 0.5732 - accuracy: 0.7158 - val_loss: 0.5661 - val_accuracy: 0.7289\n",
      "Epoch 22/50\n",
      "5398/5398 [==============================] - 4s 821us/step - loss: 0.5672 - accuracy: 0.7169 - val_loss: 0.5667 - val_accuracy: 0.7244\n",
      "Epoch 23/50\n",
      "5398/5398 [==============================] - 5s 906us/step - loss: 0.5653 - accuracy: 0.7164 - val_loss: 0.5660 - val_accuracy: 0.7259\n",
      "Epoch 24/50\n",
      "5398/5398 [==============================] - 4s 830us/step - loss: 0.5684 - accuracy: 0.7145 - val_loss: 0.5690 - val_accuracy: 0.7407\n",
      "Epoch 25/50\n",
      "5398/5398 [==============================] - 5s 940us/step - loss: 0.5653 - accuracy: 0.7227 - val_loss: 0.5651 - val_accuracy: 0.7200\n",
      "Epoch 26/50\n",
      "5398/5398 [==============================] - 5s 995us/step - loss: 0.5681 - accuracy: 0.7156 - val_loss: 0.5710 - val_accuracy: 0.7244\n",
      "Epoch 27/50\n",
      "5398/5398 [==============================] - 4s 817us/step - loss: 0.5625 - accuracy: 0.7223 - val_loss: 0.5724 - val_accuracy: 0.7141\n",
      "Epoch 28/50\n",
      "5398/5398 [==============================] - 5s 834us/step - loss: 0.5612 - accuracy: 0.7243 - val_loss: 0.5607 - val_accuracy: 0.7348\n",
      "Epoch 29/50\n",
      "5398/5398 [==============================] - 5s 842us/step - loss: 0.5581 - accuracy: 0.7264 - val_loss: 0.5709 - val_accuracy: 0.7259\n",
      "Epoch 30/50\n",
      "5398/5398 [==============================] - 5s 966us/step - loss: 0.5630 - accuracy: 0.7255 - val_loss: 0.5665 - val_accuracy: 0.7289\n",
      "Epoch 31/50\n",
      "5398/5398 [==============================] - 5s 852us/step - loss: 0.5570 - accuracy: 0.7264 - val_loss: 0.5646 - val_accuracy: 0.7348\n",
      "Epoch 32/50\n",
      "5398/5398 [==============================] - 5s 955us/step - loss: 0.5593 - accuracy: 0.7245 - val_loss: 0.5678 - val_accuracy: 0.7230\n",
      "Epoch 33/50\n",
      "5398/5398 [==============================] - 5s 1ms/step - loss: 0.5569 - accuracy: 0.7234 - val_loss: 0.5650 - val_accuracy: 0.7200\n",
      "Epoch 34/50\n",
      "5398/5398 [==============================] - 5s 971us/step - loss: 0.5577 - accuracy: 0.7303 - val_loss: 0.5705 - val_accuracy: 0.7111\n",
      "Epoch 35/50\n",
      "5398/5398 [==============================] - 6s 1ms/step - loss: 0.5573 - accuracy: 0.7299 - val_loss: 0.5753 - val_accuracy: 0.7141\n",
      "Epoch 36/50\n",
      "5398/5398 [==============================] - 5s 990us/step - loss: 0.5595 - accuracy: 0.7273 - val_loss: 0.5652 - val_accuracy: 0.7259\n",
      "Epoch 37/50\n",
      "5398/5398 [==============================] - 5s 991us/step - loss: 0.5527 - accuracy: 0.7329 - val_loss: 0.5661 - val_accuracy: 0.7333\n",
      "Epoch 38/50\n",
      "5398/5398 [==============================] - 5s 949us/step - loss: 0.5486 - accuracy: 0.7323 - val_loss: 0.5676 - val_accuracy: 0.7274\n",
      "Epoch 39/50\n",
      "5398/5398 [==============================] - 5s 849us/step - loss: 0.5458 - accuracy: 0.7343 - val_loss: 0.5710 - val_accuracy: 0.7111\n",
      "Epoch 40/50\n",
      "5398/5398 [==============================] - 5s 870us/step - loss: 0.5470 - accuracy: 0.7379 - val_loss: 0.5656 - val_accuracy: 0.7185\n",
      "Epoch 41/50\n",
      "5398/5398 [==============================] - 4s 826us/step - loss: 0.5485 - accuracy: 0.7340 - val_loss: 0.5629 - val_accuracy: 0.7156\n",
      "Epoch 42/50\n",
      "5398/5398 [==============================] - 5s 847us/step - loss: 0.5499 - accuracy: 0.7366 - val_loss: 0.5651 - val_accuracy: 0.7304\n",
      "Epoch 43/50\n",
      "5398/5398 [==============================] - 5s 906us/step - loss: 0.5463 - accuracy: 0.7392 - val_loss: 0.5621 - val_accuracy: 0.7304\n",
      "Epoch 44/50\n",
      "5398/5398 [==============================] - 4s 814us/step - loss: 0.5497 - accuracy: 0.7305 - val_loss: 0.5739 - val_accuracy: 0.7274\n",
      "Epoch 45/50\n",
      "5398/5398 [==============================] - 6s 1ms/step - loss: 0.5407 - accuracy: 0.7392 - val_loss: 0.5686 - val_accuracy: 0.7200\n",
      "Epoch 46/50\n",
      "5398/5398 [==============================] - 6s 1ms/step - loss: 0.5421 - accuracy: 0.7438 - val_loss: 0.5733 - val_accuracy: 0.7185\n",
      "Epoch 47/50\n",
      "5398/5398 [==============================] - 5s 886us/step - loss: 0.5380 - accuracy: 0.7392 - val_loss: 0.5790 - val_accuracy: 0.7230\n",
      "Epoch 48/50\n",
      "5398/5398 [==============================] - 5s 862us/step - loss: 0.5398 - accuracy: 0.7453 - val_loss: 0.5727 - val_accuracy: 0.7319\n",
      "Epoch 49/50\n",
      "5398/5398 [==============================] - 5s 973us/step - loss: 0.5434 - accuracy: 0.7377 - val_loss: 0.5936 - val_accuracy: 0.7126\n",
      "Epoch 50/50\n",
      "5398/5398 [==============================] - 6s 1ms/step - loss: 0.5410 - accuracy: 0.7399 - val_loss: 0.5650 - val_accuracy: 0.7348\n"
     ]
    }
   ],
   "source": [
    "history1 = model1.fit(\n",
    "    X_train, y_train,\n",
    "    epochs=50, batch_size=256,\n",
    "    validation_data=(X_val, y_val),\n",
    "#     callbacks=[es]\n",
    "    )"
   ]
  },
  {
   "cell_type": "code",
   "execution_count": 72,
   "id": "66bb231f",
   "metadata": {},
   "outputs": [
    {
     "name": "stdout",
     "output_type": "stream",
     "text": [
      "5398/5398 [==============================] - 2s 293us/step\n",
      "Train loss:  0.5276144416674988\n",
      "Train accuracy:  0.7454612851142883\n",
      "----------------------------------------------------------------------\n",
      "675/675 [==============================] - 0s 305us/step\n",
      "Val loss:  0.5649876727881255\n",
      "Val accuracy:  0.7348148226737976\n",
      "----------------------------------------------------------------------\n",
      "675/675 [==============================] - 0s 293us/step\n",
      "Test loss:  0.5756127313331322\n",
      "Test accuracy:  0.7318518757820129\n"
     ]
    }
   ],
   "source": [
    "display_model_score(model1,\n",
    "    [X_train, y_train],\n",
    "    [X_val, y_val],\n",
    "    [X_test, y_test],\n",
    "    256)"
   ]
  },
  {
   "cell_type": "code",
   "execution_count": 73,
   "id": "cd6c7939",
   "metadata": {},
   "outputs": [],
   "source": [
    "plt.style.use('ggplot')\n",
    "\n",
    "def plot_history(history):\n",
    "  acc = history.history['accuracy']\n",
    "  val_acc = history.history['val_accuracy']\n",
    "  loss = history.history['loss']\n",
    "  val_loss = history.history['val_loss']\n",
    "  x = range(1, len(acc) + 1)\n",
    "\n",
    "  plt.figure(figsize=(12, 5))\n",
    "  plt.subplot(1, 2, 1)\n",
    "  plt.plot(x, acc, 'b', label='Training acc')\n",
    "  plt.plot(x, val_acc, 'r', label='Validation acc')\n",
    "  plt.title('Training and validation accuracy')\n",
    "  plt.legend()\n",
    "\n",
    "  plt.subplot(1, 2, 2)\n",
    "  plt.plot(x, loss, 'b', label='Training loss')\n",
    "  plt.plot(x, val_loss, 'r', label='Validation loss')\n",
    "  plt.title('Training and validation loss')\n",
    "  plt.legend()"
   ]
  },
  {
   "cell_type": "code",
   "execution_count": 74,
   "id": "4f9f9e94",
   "metadata": {},
   "outputs": [
    {
     "data": {
      "image/png": "[encoded data removed]",
      "text/plain": [
       "<Figure size 864x360 with 2 Axes>"
      ]
     },
     "metadata": {},
     "output_type": "display_data"
    }
   ],
   "source": [
    "plot_history(history1)"
   ]
  },
  {
   "cell_type": "code",
   "execution_count": 92,
   "id": "fa8bbd14",
   "metadata": {},
   "outputs": [],
   "source": [
    "from math import sqrt \n",
    "\n",
    "def perf_measure(y_actual, y_hat):\n",
    "    TP = 0\n",
    "    FP = 0\n",
    "    TN = 0\n",
    "    FN = 0\n",
    "\n",
    "    for i in range(len(y_hat)): \n",
    "        if y_actual[i]==y_hat[i]==1:\n",
    "           TP += 1\n",
    "        if y_hat[i]==1 and y_actual[i]!=y_hat[i]:\n",
    "           FP += 1\n",
    "        if y_actual[i]==y_hat[i]==0:\n",
    "           TN += 1\n",
    "        if y_hat[i]==0 and y_actual[i]!=y_hat[i]:\n",
    "           FN += 1\n",
    "\n",
    "    SN=TP/(TP+FN)\n",
    "    SP=TN/(TN+FP)\n",
    "    ACC=(TP+TN)/(TP+TN+FP+FN)\n",
    "    MCC=(TN*TP-FN*FP)/sqrt((TP+FP)*(TP+FN)*(TN+FP)*(TN+FN))\n",
    "\n",
    "    return(SN, SP, ACC, MCC)"
   ]
  },
  {
   "cell_type": "code",
   "execution_count": 93,
   "id": "ea69fd76",
   "metadata": {},
   "outputs": [
    {
     "data": {
      "text/plain": [
       "(0.6819484240687679,\n",
       " 0.7852760736196319,\n",
       " 0.7318518518518519,\n",
       " 0.46874724574837495)"
      ]
     },
     "execution_count": 93,
     "metadata": {},
     "output_type": "execute_result"
    }
   ],
   "source": [
    "yhat_test = model1.predict(X_test)\n",
    "perf_measure(y_test.argmax(axis=-1),yhat_test.argmax(axis=-1))"
   ]
  },
  {
   "cell_type": "code",
   "execution_count": 94,
   "id": "049bbf6a",
   "metadata": {},
   "outputs": [
    {
     "data": {
      "text/plain": [
       "(0.6965748324646315,\n",
       " 0.7938790560471977,\n",
       " 0.7454612819562801,\n",
       " 0.49290241249783395)"
      ]
     },
     "execution_count": 94,
     "metadata": {},
     "output_type": "execute_result"
    }
   ],
   "source": [
    "yhat_train = model1.predict(X_train)\n",
    "perf_measure(y_train.argmax(axis=-1),yhat_train.argmax(axis=-1))"
   ]
  },
  {
   "cell_type": "code",
   "execution_count": 114,
   "id": "0c424303",
   "metadata": {},
   "outputs": [
    {
     "name": "stdout",
     "output_type": "stream",
     "text": [
      "(675, 41)\n"
     ]
    },
    {
     "data": {
      "text/plain": [
       "(0.6787878787878788,\n",
       " 0.7884057971014493,\n",
       " 0.7348148148148148,\n",
       " 0.4704780303912207)"
      ]
     },
     "execution_count": 114,
     "metadata": {},
     "output_type": "execute_result"
    }
   ],
   "source": [
    "yhat_val = model1.predict(X_val)\n",
    "perf_measure(y_val.argmax(axis=-1),yhat_val.argmax(axis=-1))"
   ]
  },
  {
   "cell_type": "code",
   "execution_count": 96,
   "id": "c0a46fff",
   "metadata": {},
   "outputs": [
    {
     "name": "stdout",
     "output_type": "stream",
     "text": [
      ",Independent DataSet,,\n",
      "\n",
      "Protein_ID,Location,Status,Fragment\n",
      "\n",
      "Q810U3,118,SNO,TLVIDFRSGGRPEEYEGEYQCFARNKFGTALSNRIRLQVSK\n",
      "\n",
      "Tổng số chuỗi:  3519\n",
      "Tổng số mẫu positive:  351\n",
      "Tổng số mẫu negative:  3168\n"
     ]
    }
   ],
   "source": [
    "test = read_file_dataset(file_test)"
   ]
  },
  {
   "cell_type": "code",
   "execution_count": 111,
   "id": "84a5e132",
   "metadata": {},
   "outputs": [],
   "source": [
    "Xtest = test['sequences']\n",
    "ytest = test['labels']"
   ]
  },
  {
   "cell_type": "code",
   "execution_count": 112,
   "id": "27cc5277",
   "metadata": {},
   "outputs": [],
   "source": [
    "Xtest_ = integer_encoding(Xtest)\n",
    "max_length = 41\n",
    "Xtest_ = pad_sequences(Xtest_, maxlen=max_length, padding='post', truncating='post')\n",
    "Xtest_ = to_categorical(Xtest_)\n",
    "Xtest_.shape\n",
    "ytest=out_encoder.transform(ytest)\n",
    "ytest_ = to_categorical(ytest)"
   ]
  },
  {
   "cell_type": "code",
   "execution_count": 113,
   "id": "915b0de3",
   "metadata": {},
   "outputs": [
    {
     "ename": "ValueError",
     "evalue": "Error when checking input: expected input_8 to have 2 dimensions, but got array with shape (3519, 41, 24)",
     "output_type": "error",
     "traceback": [
      "\u001b[1;31m---------------------------------------------------------------------------\u001b[0m",
      "\u001b[1;31mValueError\u001b[0m                                Traceback (most recent call last)",
      "\u001b[1;32mC:\\Users\\INSPIR~1\\AppData\\Local\\Temp/ipykernel_17296/3484355911.py\u001b[0m in \u001b[0;36m<module>\u001b[1;34m\u001b[0m\n\u001b[1;32m----> 1\u001b[1;33m \u001b[0mmodel1\u001b[0m\u001b[1;33m.\u001b[0m\u001b[0mpredict\u001b[0m\u001b[1;33m(\u001b[0m\u001b[0mXtest_\u001b[0m\u001b[1;33m)\u001b[0m\u001b[1;33m\u001b[0m\u001b[1;33m\u001b[0m\u001b[0m\n\u001b[0m",
      "\u001b[1;32md:\\programs\\python\\python37\\lib\\site-packages\\keras\\engine\\training.py\u001b[0m in \u001b[0;36mpredict\u001b[1;34m(self, x, batch_size, verbose, steps, callbacks, max_queue_size, workers, use_multiprocessing)\u001b[0m\n\u001b[0;32m   1439\u001b[0m \u001b[1;33m\u001b[0m\u001b[0m\n\u001b[0;32m   1440\u001b[0m         \u001b[1;31m# Case 2: Symbolic tensors or Numpy array-like.\u001b[0m\u001b[1;33m\u001b[0m\u001b[1;33m\u001b[0m\u001b[1;33m\u001b[0m\u001b[0m\n\u001b[1;32m-> 1441\u001b[1;33m         \u001b[0mx\u001b[0m\u001b[1;33m,\u001b[0m \u001b[0m_\u001b[0m\u001b[1;33m,\u001b[0m \u001b[0m_\u001b[0m \u001b[1;33m=\u001b[0m \u001b[0mself\u001b[0m\u001b[1;33m.\u001b[0m\u001b[0m_standardize_user_data\u001b[0m\u001b[1;33m(\u001b[0m\u001b[0mx\u001b[0m\u001b[1;33m)\u001b[0m\u001b[1;33m\u001b[0m\u001b[1;33m\u001b[0m\u001b[0m\n\u001b[0m\u001b[0;32m   1442\u001b[0m         \u001b[1;32mif\u001b[0m \u001b[0mself\u001b[0m\u001b[1;33m.\u001b[0m\u001b[0mstateful\u001b[0m\u001b[1;33m:\u001b[0m\u001b[1;33m\u001b[0m\u001b[1;33m\u001b[0m\u001b[0m\n\u001b[0;32m   1443\u001b[0m             \u001b[1;32mif\u001b[0m \u001b[0mx\u001b[0m\u001b[1;33m[\u001b[0m\u001b[1;36m0\u001b[0m\u001b[1;33m]\u001b[0m\u001b[1;33m.\u001b[0m\u001b[0mshape\u001b[0m\u001b[1;33m[\u001b[0m\u001b[1;36m0\u001b[0m\u001b[1;33m]\u001b[0m \u001b[1;33m>\u001b[0m \u001b[0mbatch_size\u001b[0m \u001b[1;32mand\u001b[0m \u001b[0mx\u001b[0m\u001b[1;33m[\u001b[0m\u001b[1;36m0\u001b[0m\u001b[1;33m]\u001b[0m\u001b[1;33m.\u001b[0m\u001b[0mshape\u001b[0m\u001b[1;33m[\u001b[0m\u001b[1;36m0\u001b[0m\u001b[1;33m]\u001b[0m \u001b[1;33m%\u001b[0m \u001b[0mbatch_size\u001b[0m \u001b[1;33m!=\u001b[0m \u001b[1;36m0\u001b[0m\u001b[1;33m:\u001b[0m\u001b[1;33m\u001b[0m\u001b[1;33m\u001b[0m\u001b[0m\n",
      "\u001b[1;32md:\\programs\\python\\python37\\lib\\site-packages\\keras\\engine\\training.py\u001b[0m in \u001b[0;36m_standardize_user_data\u001b[1;34m(self, x, y, sample_weight, class_weight, check_array_lengths, batch_size)\u001b[0m\n\u001b[0;32m    577\u001b[0m             \u001b[0mfeed_input_shapes\u001b[0m\u001b[1;33m,\u001b[0m\u001b[1;33m\u001b[0m\u001b[1;33m\u001b[0m\u001b[0m\n\u001b[0;32m    578\u001b[0m             \u001b[0mcheck_batch_axis\u001b[0m\u001b[1;33m=\u001b[0m\u001b[1;32mFalse\u001b[0m\u001b[1;33m,\u001b[0m  \u001b[1;31m# Don't enforce the batch size.\u001b[0m\u001b[1;33m\u001b[0m\u001b[1;33m\u001b[0m\u001b[0m\n\u001b[1;32m--> 579\u001b[1;33m             exception_prefix='input')\n\u001b[0m\u001b[0;32m    580\u001b[0m \u001b[1;33m\u001b[0m\u001b[0m\n\u001b[0;32m    581\u001b[0m         \u001b[1;32mif\u001b[0m \u001b[0my\u001b[0m \u001b[1;32mis\u001b[0m \u001b[1;32mnot\u001b[0m \u001b[1;32mNone\u001b[0m\u001b[1;33m:\u001b[0m\u001b[1;33m\u001b[0m\u001b[1;33m\u001b[0m\u001b[0m\n",
      "\u001b[1;32md:\\programs\\python\\python37\\lib\\site-packages\\keras\\engine\\training_utils.py\u001b[0m in \u001b[0;36mstandardize_input_data\u001b[1;34m(data, names, shapes, check_batch_axis, exception_prefix)\u001b[0m\n\u001b[0;32m    133\u001b[0m                         \u001b[1;34m': expected '\u001b[0m \u001b[1;33m+\u001b[0m \u001b[0mnames\u001b[0m\u001b[1;33m[\u001b[0m\u001b[0mi\u001b[0m\u001b[1;33m]\u001b[0m \u001b[1;33m+\u001b[0m \u001b[1;34m' to have '\u001b[0m \u001b[1;33m+\u001b[0m\u001b[1;33m\u001b[0m\u001b[1;33m\u001b[0m\u001b[0m\n\u001b[0;32m    134\u001b[0m                         \u001b[0mstr\u001b[0m\u001b[1;33m(\u001b[0m\u001b[0mlen\u001b[0m\u001b[1;33m(\u001b[0m\u001b[0mshape\u001b[0m\u001b[1;33m)\u001b[0m\u001b[1;33m)\u001b[0m \u001b[1;33m+\u001b[0m \u001b[1;34m' dimensions, but got array '\u001b[0m\u001b[1;33m\u001b[0m\u001b[1;33m\u001b[0m\u001b[0m\n\u001b[1;32m--> 135\u001b[1;33m                         'with shape ' + str(data_shape))\n\u001b[0m\u001b[0;32m    136\u001b[0m                 \u001b[1;32mif\u001b[0m \u001b[1;32mnot\u001b[0m \u001b[0mcheck_batch_axis\u001b[0m\u001b[1;33m:\u001b[0m\u001b[1;33m\u001b[0m\u001b[1;33m\u001b[0m\u001b[0m\n\u001b[0;32m    137\u001b[0m                     \u001b[0mdata_shape\u001b[0m \u001b[1;33m=\u001b[0m \u001b[0mdata_shape\u001b[0m\u001b[1;33m[\u001b[0m\u001b[1;36m1\u001b[0m\u001b[1;33m:\u001b[0m\u001b[1;33m]\u001b[0m\u001b[1;33m\u001b[0m\u001b[1;33m\u001b[0m\u001b[0m\n",
      "\u001b[1;31mValueError\u001b[0m: Error when checking input: expected input_8 to have 2 dimensions, but got array with shape (3519, 41, 24)"
     ]
    }
   ],
   "source": [
    "model1.predict(Xtest_)"
   ]
  },
  {
   "cell_type": "code",
   "execution_count": null,
   "id": "836a7153",
   "metadata": {},
   "outputs": [],
   "source": []
  }
 ],
 "metadata": {
  "kernelspec": {
   "display_name": "Python 3 (ipykernel)",
   "language": "python",
   "name": "python3"
  },
  "language_info": {
   "codemirror_mode": {
    "name": "ipython",
    "version": 3
   },
   "file_extension": ".py",
   "mimetype": "text/x-python",
   "name": "python",
   "nbconvert_exporter": "python",
   "pygments_lexer": "ipython3",
   "version": "3.7.9"
  }
 },
 "nbformat": 4,
 "nbformat_minor": 5
}
