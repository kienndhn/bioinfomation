{
 "cells": [
  {
   "cell_type": "markdown",
   "id": "093d6171",
   "metadata": {},
   "source": [
    "# Xác định vị trí S-Nitrosyl hóa trong protein\n",
    "\n",
    " Nguyễn Hồng Quang\n",
    " \n",
    " Khoa Kỹ thuật máy tính\n",
    " \n",
    " Trường Công nghệ thông tin và Truyền thông\n",
    " \n",
    " Trường Đại học Bách Khoa Hà Nội\n",
    " \n",
    " Tháng 12 / 2021\n",
    "\n",
    " Reference: https://ieeexplore.ieee.org/abstract/document/9313999/media#media\n",
    "A. Siraj, T. Chantsalnyam, H. Tayara and K. T. Chong, \"RecSNO: Prediction of Protein S-Nitrosylation Sites Using a Recurrent Neural Network,\" in IEEE Access, vol. 9, pp. 6674-6682, 2021, doi: 10.1109/ACCESS.2021.3049142.\n",
    "\n",
    "# Bài toán:\n",
    "Một chuỗi 41 ký tự với ký tự C ở giữa\n",
    "\n",
    "Ví dụ: MAQDQGEKENPMRELRIRKLCLNICVGESGDRLTRAAKVLE\n",
    "\n",
    "Phải phân loại chuỗi này thành 2 loại: nonSNO và SNO \n",
    "\n",
    "# Dataset: \n",
    "Tập dữ liệu training: 3383 positive and 3365 negative sites (hiện tại đã có)\n",
    "\n",
    "Tập dữ liệu test: contain 351 positive and 3168 negative sites (hiện tại chưa có, mới chỉ có vị trí ở trong file S-nitrosylation datasets-PreSNO_test.csv )\n",
    "\n"
   ]
  },
  {
   "cell_type": "code",
   "execution_count": 1,
   "id": "a1bdc039",
   "metadata": {},
   "outputs": [
    {
     "name": "stderr",
     "output_type": "stream",
     "text": [
      "Using TensorFlow backend.\n"
     ]
    }
   ],
   "source": [
    "from sklearn.preprocessing import LabelEncoder\n",
    "import numpy as np\n",
    "from keras.models import Model\n",
    "from keras.regularizers import l2\n",
    "from keras.constraints import max_norm\n",
    "from keras.utils import to_categorical\n",
    "from keras.preprocessing.text import Tokenizer\n",
    "from keras.preprocessing.sequence import pad_sequences\n",
    "from keras.callbacks import EarlyStopping\n",
    "from keras.layers import Input, Dense, Dropout, Flatten, Activation\n",
    "from keras.layers import Conv1D, Add, MaxPooling1D, BatchNormalization\n",
    "from keras.layers import Embedding, Bidirectional, CuDNNLSTM, GlobalMaxPooling1D, LSTM\n",
    "from sklearn.model_selection import train_test_split\n",
    "\n",
    "from sklearn.metrics import roc_curve\n",
    "from sklearn.metrics import roc_auc_score\n",
    "\n",
    "import pandas as pd\n",
    "import matplotlib.pyplot as plt"
   ]
  },
  {
   "cell_type": "code",
   "execution_count": 2,
   "id": "c1df730c",
   "metadata": {},
   "outputs": [],
   "source": [
    "file_test = \"test.csv\"\n",
    "file_train = \"train.csv\""
   ]
  },
  {
   "cell_type": "code",
   "execution_count": 3,
   "id": "b1f50c74",
   "metadata": {},
   "outputs": [],
   "source": [
    "# dataset tổ chức như một dictionary, gồm có 2 keys: sequences và labels\n",
    "# + sequences : là một list các sequences\n",
    "# + labels: là một list các labels \"+1\" cho postive và \"-1\" cho negative\n",
    "def read_file_dataset(file_dataset): \n",
    "    nb_positive = 0\n",
    "    nb_negative = 0\n",
    "    \n",
    "    dataset = {}\n",
    "    dataset[\"sequences\"] = []\n",
    "    dataset[\"labels\"] = []\n",
    "    \n",
    "    f = open(file_dataset, \"r\")\n",
    "    lines = f.readlines()\n",
    "    f.close()\n",
    "    \n",
    "    print(lines[0])\n",
    "    print(lines[1])\n",
    "    print(lines[2])\n",
    "    \n",
    "    print(\"Tổng số chuỗi: \", len(lines) - 2)\n",
    "    \n",
    "    for line in lines[2:]:\n",
    "        seq = line.strip().split(\",\")[3]\n",
    "        #print(seq)\n",
    "        label = line.strip().split(\",\")[2]\n",
    "        #print(label)\n",
    "        \n",
    "        if label == \"SNO\": nb_positive += 1\n",
    "        if label == \"nonSNO\": nb_negative += 1\n",
    "        \n",
    "        dataset[\"sequences\"].append(seq)\n",
    "        dataset[\"labels\"].append(label)\n",
    "        \n",
    "        #break\n",
    "    \n",
    "    print(\"Tổng số mẫu positive: \", nb_positive)\n",
    "    print(\"Tổng số mẫu negative: \", nb_negative)\n",
    "    \n",
    "    return dataset\n",
    "    "
   ]
  },
  {
   "cell_type": "code",
   "execution_count": 4,
   "id": "e393fd02",
   "metadata": {},
   "outputs": [
    {
     "name": "stdout",
     "output_type": "stream",
     "text": [
      ",Training DataSet,,\n",
      "\n",
      "Protein_ID,Location,Status,Fragment\n",
      "\n",
      "P04117,118,SNO,WDGKSTTIKRKRDGDKLVVECVMKGVTSTRVYERA------\n",
      "\n",
      "Tổng số chuỗi:  6748\n",
      "Tổng số mẫu positive:  3383\n",
      "Tổng số mẫu negative:  3365\n",
      "----------------------------------------------------------------------\n",
      ",Independent DataSet,,\n",
      "\n",
      "Protein_ID,Location,Status,Fragment\n",
      "\n",
      "Q810U3,118,SNO,TLVIDFRSGGRPEEYEGEYQCFARNKFGTALSNRIRLQVSK\n",
      "\n",
      "Tổng số chuỗi:  3519\n",
      "Tổng số mẫu positive:  351\n",
      "Tổng số mẫu negative:  3168\n"
     ]
    }
   ],
   "source": [
    "dataset = read_file_dataset(file_train)\n",
    "print('-'*70)\n",
    "test = read_file_dataset(file_test)"
   ]
  },
  {
   "cell_type": "code",
   "execution_count": 5,
   "id": "bc920ff7",
   "metadata": {},
   "outputs": [],
   "source": [
    "X = dataset['sequences']\n",
    "X_test = test['sequences']\n",
    "y = dataset['labels']\n",
    "y_test = test['labels']\n"
   ]
  },
  {
   "cell_type": "markdown",
   "id": "494d569d",
   "metadata": {},
   "source": [
    "Mã hóa các 23 amino axit và kí tự '-' thành các "
   ]
  },
  {
   "cell_type": "code",
   "execution_count": 6,
   "id": "d2061e56",
   "metadata": {},
   "outputs": [
    {
     "name": "stdout",
     "output_type": "stream",
     "text": [
      "{'A': 1, 'C': 2, 'D': 3, 'E': 4, 'F': 5, 'G': 6, 'H': 7, 'I': 8, 'K': 9, 'L': 10, 'M': 11, 'N': 12, 'P': 13, 'Q': 14, 'R': 15, 'S': 16, 'T': 17, 'V': 18, 'W': 19, 'Y': 20, '-': 21}\n",
      "Dict Length: 21\n"
     ]
    }
   ],
   "source": [
    "# codes = ['A', 'C', 'D', 'E', 'F', 'G', 'H', 'I', 'K', 'L',\n",
    "#          'M', 'N', 'O', 'P', 'Q', 'R', 'S', 'T', 'U','V', 'W', 'Y', '-']\n",
    "\n",
    "codes = ['A', 'C', 'D', 'E', 'F', 'G', 'H', 'I', 'K', 'L',\n",
    "         'M', 'N', 'P', 'Q', 'R', 'S', 'T','V', 'W', 'Y', '-']\n",
    "def create_dict(codes):\n",
    "  char_dict = {}\n",
    "  for index, val in enumerate(codes):\n",
    "    char_dict[val] = index+1\n",
    "\n",
    "  return char_dict\n",
    "\n",
    "char_dict = create_dict(codes)\n",
    "\n",
    "print(char_dict)\n",
    "print(\"Dict Length:\", len(char_dict))"
   ]
  },
  {
   "cell_type": "code",
   "execution_count": 7,
   "id": "ec166aeb",
   "metadata": {},
   "outputs": [],
   "source": [
    "\n",
    "\n",
    "def integer_encoding(data):\n",
    "  \"\"\"\n",
    "  - Encodes code sequence to integer values.\n",
    "  - 20 common amino acids are taken into consideration\n",
    "    and rest 4 are categorized as 0.\n",
    "  \"\"\"\n",
    "  \n",
    "  encode_list = []\n",
    "  for i in range(len(data)):\n",
    "    row_encode = []\n",
    "#     for code in row:\n",
    "#       \n",
    "#     encode_list.append(np.array(row_encode))\n",
    "    for x in data[i]:\n",
    "        row_encode.append(char_dict.get(x, 0))\n",
    "    encode_list.append(np.array(row_encode))\n",
    "    \n",
    "  \n",
    "  return np.asarray(encode_list)\n",
    "  \n",
    "X_encode = integer_encoding(X)\n",
    "X_test_encode = integer_encoding(X_test)\n",
    "# val_encode = integer_encoding(val_sm) \n",
    "# test_encode = integer_encoding(test_sm) "
   ]
  },
  {
   "cell_type": "code",
   "execution_count": null,
   "id": "acfa1118",
   "metadata": {},
   "outputs": [],
   "source": []
  },
  {
   "cell_type": "code",
   "execution_count": null,
   "id": "394aa13e",
   "metadata": {},
   "outputs": [],
   "source": []
  },
  {
   "cell_type": "code",
   "execution_count": 8,
   "id": "bbb14145",
   "metadata": {},
   "outputs": [],
   "source": [
    "max_length = 41\n",
    "X_pad = pad_sequences(X_encode, maxlen=max_length, padding='post', truncating='post')\n",
    "X_ohe = to_categorical(X_pad)\n",
    "X_pad.shape, X_ohe.shape\n",
    "\n",
    "X_test_pad = pad_sequences(X_test_encode, maxlen=max_length, padding='post', truncating='post')\n",
    "X_test_ohe = to_categorical(X_test_pad)\n"
   ]
  },
  {
   "cell_type": "code",
   "execution_count": 9,
   "id": "6cafc2c8",
   "metadata": {},
   "outputs": [],
   "source": [
    "out_encoder = LabelEncoder()\n",
    "y_le = out_encoder.fit_transform(y)\n",
    "y_test_le = out_encoder.transform(y_test)\n",
    "# print(y_test)"
   ]
  },
  {
   "cell_type": "code",
   "execution_count": 10,
   "id": "6a62f58c",
   "metadata": {},
   "outputs": [],
   "source": [
    "y_cate = to_categorical(y_le)\n",
    "y_test_cate = to_categorical(y_test_le)"
   ]
  },
  {
   "cell_type": "code",
   "execution_count": null,
   "id": "1cfe759b",
   "metadata": {},
   "outputs": [],
   "source": []
  },
  {
   "cell_type": "code",
   "execution_count": 11,
   "id": "12af2845",
   "metadata": {},
   "outputs": [],
   "source": [
    "def display_model_score(model, train, val, batch_size):\n",
    "\n",
    "  train_score = model.evaluate(train[0], train[1], batch_size=batch_size, verbose=1)\n",
    "  print('Train loss: ', train_score[0])\n",
    "  print('Train accuracy: ', train_score[1])\n",
    "  print('-'*70)\n",
    "\n",
    "  val_score = model.evaluate(val[0], val[1], batch_size=batch_size, verbose=1)\n",
    "  print('Val loss: ', val_score[0])\n",
    "  print('Val accuracy: ', val_score[1])\n",
    "  print('-'*70)\n",
    "  \n",
    "\n",
    "#   test_score = model.evaluate(test[0], test[1], batch_size=batch_size, verbose=1)\n",
    "#   print('Test loss: ', test_score[0])\n",
    "#   print('Test accuracy: ', test_score[1])\n",
    "  return val_score[0], val_score[1]\n",
    "    "
   ]
  },
  {
   "cell_type": "code",
   "execution_count": 12,
   "id": "e659a78f",
   "metadata": {},
   "outputs": [],
   "source": [
    "from math import sqrt \n",
    "\n",
    "def perf_measure(y_actual, y_hat):\n",
    "    TP = 0\n",
    "    FP = 0\n",
    "    TN = 0\n",
    "    FN = 0\n",
    "\n",
    "    for i in range(len(y_hat)): \n",
    "        if y_actual[i]==y_hat[i]==0:\n",
    "           TP += 1\n",
    "        if y_hat[i]==0 and y_actual[i]!=y_hat[i]:\n",
    "           FP += 1\n",
    "        if y_actual[i]==y_hat[i]==1:\n",
    "           TN += 1\n",
    "        if y_hat[i]==1 and y_actual[i]!=y_hat[i]:\n",
    "           FN += 1\n",
    "\n",
    "    SN=TP/(TP+FN)\n",
    "    SP=TN/(TN+FP)\n",
    "    ACC=(TP+TN)/(TP+TN+FP+FN)\n",
    "    MCC=(TN*TP-FN*FP)/sqrt((TP+FP)*(TP+FN)*(TN+FP)*(TN+FN))\n",
    "    \n",
    "    print(\"TP: \", TP, \" FP: \", FP, \" TN: \", TN, \" FN: \",FN)\n",
    "    return(SN, SP, ACC, MCC)"
   ]
  },
  {
   "cell_type": "code",
   "execution_count": 13,
   "id": "9425849d",
   "metadata": {},
   "outputs": [],
   "source": [
    "plt.style.use('ggplot')\n",
    "\n",
    "def plot_history(history):\n",
    "    acc = history.history['accuracy']\n",
    "    val_acc = history.history['val_accuracy']\n",
    "    loss = history.history['loss']\n",
    "    val_loss = history.history['val_loss']\n",
    "    x = range(1, len(acc) + 1)\n",
    "\n",
    "    plt.figure(figsize=(12, 5))\n",
    "    plt.subplot(1, 2, 1)\n",
    "    plt.plot(x, acc, 'b', label='Training acc')\n",
    "    plt.xlabel('epoch')\n",
    "    plt.plot(x, val_acc, 'r', label='Validation acc')\n",
    "    plt.title('Training and validation accuracy')\n",
    "    plt.legend()\n",
    "\n",
    "    plt.subplot(1, 2, 2)\n",
    "    plt.plot(x, loss, 'b', label='Training loss')\n",
    "    plt.plot(x, val_loss, 'r', label='Validation loss')\n",
    "    plt.title('Training and validation loss')\n",
    "    plt.xlabel('epoch')\n",
    "    plt.legend()"
   ]
  },
  {
   "cell_type": "code",
   "execution_count": 14,
   "id": "760b9c93",
   "metadata": {},
   "outputs": [],
   "source": [
    "X_train, X_val, y_train, y_val = train_test_split(X_pad, y_cate, test_size=0.2, random_state=1)\n",
    "# X_train, X_val, y_train, y_val = train_test_split(X_train, y_train, test_size=0.2, random_state=1)"
   ]
  },
  {
   "cell_type": "code",
   "execution_count": 15,
   "id": "2e3a8ef3",
   "metadata": {},
   "outputs": [],
   "source": [
    "es = EarlyStopping(monitor='val_loss', patience=3, verbose=1)"
   ]
  },
  {
   "cell_type": "code",
   "execution_count": null,
   "id": "2c5da612",
   "metadata": {},
   "outputs": [],
   "source": [
    "\n"
   ]
  },
  {
   "cell_type": "code",
   "execution_count": 30,
   "id": "cfee72d0",
   "metadata": {},
   "outputs": [
    {
     "name": "stdout",
     "output_type": "stream",
     "text": [
      "Model: \"model_3\"\n",
      "_________________________________________________________________\n",
      "Layer (type)                 Output Shape              Param #   \n",
      "=================================================================\n",
      "input_3 (InputLayer)         (None, 41)                0         \n",
      "_________________________________________________________________\n",
      "embedding_3 (Embedding)      (None, 41, 64)            1408      \n",
      "_________________________________________________________________\n",
      "bidirectional_7 (Bidirection (None, 41, 256)           197632    \n",
      "_________________________________________________________________\n",
      "dropout_9 (Dropout)          (None, 41, 256)           0         \n",
      "_________________________________________________________________\n",
      "bidirectional_8 (Bidirection (None, 41, 128)           164352    \n",
      "_________________________________________________________________\n",
      "dropout_10 (Dropout)         (None, 41, 128)           0         \n",
      "_________________________________________________________________\n",
      "bidirectional_9 (Bidirection (None, 41, 64)            41216     \n",
      "_________________________________________________________________\n",
      "dropout_11 (Dropout)         (None, 41, 64)            0         \n",
      "_________________________________________________________________\n",
      "max_pooling1d_3 (MaxPooling1 (None, 20, 64)            0         \n",
      "_________________________________________________________________\n",
      "flatten_3 (Flatten)          (None, 1280)              0         \n",
      "_________________________________________________________________\n",
      "dropout_12 (Dropout)         (None, 1280)              0         \n",
      "_________________________________________________________________\n",
      "dense_3 (Dense)              (None, 2)                 2562      \n",
      "=================================================================\n",
      "Total params: 407,170\n",
      "Trainable params: 407,170\n",
      "Non-trainable params: 0\n",
      "_________________________________________________________________\n"
     ]
    }
   ],
   "source": [
    "x_input = Input(shape=(41,))\n",
    "\n",
    "emb = Embedding(22, 64, input_length=max_length)(x_input)\n",
    "\n",
    "bi_rnn1 = Bidirectional(LSTM(128, kernel_regularizer=l2(0.0001), recurrent_regularizer=l2(0.0001), bias_regularizer=l2(0.0001), return_sequences=True))(emb)\n",
    "\n",
    "dropout1 = Dropout(0.1)(bi_rnn1)\n",
    "\n",
    "bi_rnn2 = Bidirectional(LSTM(64, kernel_regularizer=l2(0.0001), recurrent_regularizer=l2(0.0001), bias_regularizer=l2(0.0001), return_sequences=True))(dropout1)\n",
    "\n",
    "dropout2 = Dropout(0.2)(bi_rnn2)\n",
    "\n",
    "bi_rnn3 = Bidirectional(LSTM(32, kernel_regularizer=l2(0.0001), recurrent_regularizer=l2(0.0001), bias_regularizer=l2(0.0001), return_sequences=True))(dropout2)\n",
    "\n",
    "dropout3 = Dropout(0.2)(bi_rnn3)\n",
    "\n",
    "maxpooling=MaxPooling1D(pool_size=2)(dropout3)\n",
    "\n",
    "flatten = Flatten()(maxpooling)\n",
    "\n",
    "x = Dropout(0.2)(flatten)\n",
    "# softmax classifier\n",
    "x_output = Dense(2, activation='softmax')(x)\n",
    "\n",
    "model1 = Model(inputs=x_input, outputs=x_output)\n",
    "model1.compile(optimizer='adam', loss='categorical_crossentropy', metrics=['accuracy'])\n",
    "model1.summary()"
   ]
  },
  {
   "cell_type": "code",
   "execution_count": 31,
   "id": "9327c8ae",
   "metadata": {},
   "outputs": [
    {
     "name": "stdout",
     "output_type": "stream",
     "text": [
      "Train on 5398 samples, validate on 1350 samples\n",
      "Epoch 1/50\n",
      "5398/5398 [==============================] - 27s 5ms/step - loss: 0.8399 - accuracy: 0.5582 - val_loss: 0.7899 - val_accuracy: 0.6267\n",
      "Epoch 2/50\n",
      "5398/5398 [==============================] - 25s 5ms/step - loss: 0.7692 - accuracy: 0.6286 - val_loss: 0.7232 - val_accuracy: 0.6637\n",
      "Epoch 3/50\n",
      "5398/5398 [==============================] - 26s 5ms/step - loss: 0.7168 - accuracy: 0.6517 - val_loss: 0.6962 - val_accuracy: 0.6748\n",
      "Epoch 4/50\n",
      "5398/5398 [==============================] - 26s 5ms/step - loss: 0.6963 - accuracy: 0.6651 - val_loss: 0.6922 - val_accuracy: 0.6793\n",
      "Epoch 5/50\n",
      "5398/5398 [==============================] - 26s 5ms/step - loss: 0.6956 - accuracy: 0.6478 - val_loss: 0.6900 - val_accuracy: 0.6600\n",
      "Epoch 6/50\n",
      "5398/5398 [==============================] - 26s 5ms/step - loss: 0.6738 - accuracy: 0.6678 - val_loss: 0.6630 - val_accuracy: 0.6807\n",
      "Epoch 7/50\n",
      "5398/5398 [==============================] - 26s 5ms/step - loss: 0.6657 - accuracy: 0.6756 - val_loss: 0.6855 - val_accuracy: 0.6600\n",
      "Epoch 8/50\n",
      "5398/5398 [==============================] - 26s 5ms/step - loss: 0.6724 - accuracy: 0.6625 - val_loss: 0.6556 - val_accuracy: 0.6681\n",
      "Epoch 9/50\n",
      "5398/5398 [==============================] - 26s 5ms/step - loss: 0.6521 - accuracy: 0.6841 - val_loss: 0.6544 - val_accuracy: 0.6689\n",
      "Epoch 10/50\n",
      "5398/5398 [==============================] - 26s 5ms/step - loss: 0.6481 - accuracy: 0.6878 - val_loss: 0.6401 - val_accuracy: 0.6844\n",
      "Epoch 11/50\n",
      "5398/5398 [==============================] - 26s 5ms/step - loss: 0.6425 - accuracy: 0.6880 - val_loss: 0.6288 - val_accuracy: 0.7044\n",
      "Epoch 12/50\n",
      "5398/5398 [==============================] - 26s 5ms/step - loss: 0.6361 - accuracy: 0.6927 - val_loss: 0.6314 - val_accuracy: 0.6926\n",
      "Epoch 13/50\n",
      "5398/5398 [==============================] - 27s 5ms/step - loss: 0.6270 - accuracy: 0.6960 - val_loss: 0.6161 - val_accuracy: 0.7030\n",
      "Epoch 14/50\n",
      "5398/5398 [==============================] - 28s 5ms/step - loss: 0.6351 - accuracy: 0.6886 - val_loss: 0.6201 - val_accuracy: 0.7096\n",
      "Epoch 15/50\n",
      "5398/5398 [==============================] - 28s 5ms/step - loss: 0.6215 - accuracy: 0.7043 - val_loss: 0.6076 - val_accuracy: 0.7111\n",
      "Epoch 16/50\n",
      "5398/5398 [==============================] - 27s 5ms/step - loss: 0.6173 - accuracy: 0.7023 - val_loss: 0.6011 - val_accuracy: 0.7133\n",
      "Epoch 17/50\n",
      "5398/5398 [==============================] - 27s 5ms/step - loss: 0.6190 - accuracy: 0.7017 - val_loss: 0.6205 - val_accuracy: 0.7059\n",
      "Epoch 18/50\n",
      "5398/5398 [==============================] - 27s 5ms/step - loss: 0.6132 - accuracy: 0.7064 - val_loss: 0.6104 - val_accuracy: 0.7222\n",
      "Epoch 19/50\n",
      "5398/5398 [==============================] - 27s 5ms/step - loss: 0.6089 - accuracy: 0.7060 - val_loss: 0.6052 - val_accuracy: 0.7022\n",
      "Epoch 00019: early stopping\n"
     ]
    }
   ],
   "source": [
    "history1 = model1.fit(\n",
    "    X_train, y_train,\n",
    "    epochs=50, batch_size=256,\n",
    "    validation_data=(X_val, y_val),\n",
    "    callbacks=[es]\n",
    "    )"
   ]
  },
  {
   "cell_type": "code",
   "execution_count": 32,
   "id": "1c40d2d3",
   "metadata": {},
   "outputs": [
    {
     "name": "stdout",
     "output_type": "stream",
     "text": [
      "5398/5398 [==============================] - 7s 1ms/step\n",
      "Train loss:  0.6030711324933106\n",
      "Train accuracy:  0.7071137428283691\n",
      "----------------------------------------------------------------------\n",
      "3519/3519 [==============================] - 5s 1ms/step\n",
      "Val loss:  0.6170144433171005\n",
      "Val accuracy:  0.6516055464744568\n",
      "----------------------------------------------------------------------\n"
     ]
    },
    {
     "data": {
      "text/plain": [
       "(0.6170144433171005, 0.6516055464744568)"
      ]
     },
     "execution_count": 32,
     "metadata": {},
     "output_type": "execute_result"
    }
   ],
   "source": [
    "display_model_score(model1,\n",
    "    [X_train, y_train],\n",
    "    [X_test_pad, y_test_cate],\n",
    "    256)"
   ]
  },
  {
   "cell_type": "code",
   "execution_count": 33,
   "id": "7514c829",
   "metadata": {},
   "outputs": [
    {
     "data": {
      "image/png": "[encoded data removed]",
      "text/plain": [
       "<Figure size 864x360 with 2 Axes>"
      ]
     },
     "metadata": {},
     "output_type": "display_data"
    }
   ],
   "source": [
    "plot_history(history1)"
   ]
  },
  {
   "cell_type": "code",
   "execution_count": null,
   "id": "53a0f96c",
   "metadata": {},
   "outputs": [],
   "source": []
  },
  {
   "cell_type": "code",
   "execution_count": 34,
   "id": "1cfb371f",
   "metadata": {},
   "outputs": [
    {
     "name": "stdout",
     "output_type": "stream",
     "text": [
      "TP:  2352  FP:  1221  TN:  1465  FN:  360\n"
     ]
    },
    {
     "data": {
      "text/plain": [
       "(0.8672566371681416,\n",
       " 0.5454206999255399,\n",
       " 0.7071137458317895,\n",
       " 0.4361747529428669)"
      ]
     },
     "execution_count": 34,
     "metadata": {},
     "output_type": "execute_result"
    }
   ],
   "source": [
    "yhat_train = model1.predict(X_train)\n",
    "perf_measure(y_train.argmax(axis=-1),yhat_train.argmax(axis=-1))"
   ]
  },
  {
   "cell_type": "code",
   "execution_count": 35,
   "id": "f66f6e7f",
   "metadata": {},
   "outputs": [
    {
     "name": "stdout",
     "output_type": "stream",
     "text": [
      "TP:  302  FP:  1177  TN:  1991  FN:  49\n"
     ]
    },
    {
     "data": {
      "text/plain": [
       "(0.8603988603988604,\n",
       " 0.6284722222222222,\n",
       " 0.6516055697641375,\n",
       " 0.29678457336844205)"
      ]
     },
     "execution_count": 35,
     "metadata": {},
     "output_type": "execute_result"
    }
   ],
   "source": [
    "yhat_test = model1.predict(X_test_pad)\n",
    "perf_measure(y_test_cate.argmax(axis=-1),yhat_test.argmax(axis=-1))"
   ]
  },
  {
   "cell_type": "code",
   "execution_count": null,
   "id": "e31258e5",
   "metadata": {},
   "outputs": [],
   "source": []
  },
  {
   "cell_type": "code",
   "execution_count": null,
   "id": "47dd9c46",
   "metadata": {},
   "outputs": [],
   "source": []
  },
  {
   "cell_type": "code",
   "execution_count": 50,
   "id": "f06b0698",
   "metadata": {},
   "outputs": [],
   "source": []
  },
  {
   "cell_type": "code",
   "execution_count": 51,
   "id": "c011b97b",
   "metadata": {},
   "outputs": [],
   "source": [
    "\n"
   ]
  },
  {
   "cell_type": "code",
   "execution_count": null,
   "id": "bc4ab7b9",
   "metadata": {},
   "outputs": [],
   "source": []
  },
  {
   "cell_type": "code",
   "execution_count": null,
   "id": "2d9e41db",
   "metadata": {},
   "outputs": [],
   "source": []
  },
  {
   "cell_type": "code",
   "execution_count": 17,
   "id": "49589d7e",
   "metadata": {},
   "outputs": [],
   "source": [
    "from sklearn.model_selection import KFold"
   ]
  },
  {
   "cell_type": "code",
   "execution_count": 18,
   "id": "23231cba",
   "metadata": {},
   "outputs": [],
   "source": [
    "inputs = np.concatenate((X_train, X_val), axis=0)\n",
    "targets = np.concatenate((y_train, y_val), axis=0)"
   ]
  },
  {
   "cell_type": "code",
   "execution_count": 43,
   "id": "542026db",
   "metadata": {},
   "outputs": [
    {
     "name": "stdout",
     "output_type": "stream",
     "text": [
      "------------------------------------------------------------------------\n",
      "Training for fold 1 ...\n",
      "Train on 5398 samples, validate on 1350 samples\n",
      "Epoch 1/20\n",
      "5398/5398 [==============================] - 36s 7ms/step - loss: 0.7848 - accuracy: 0.5317 - val_loss: 0.7383 - val_accuracy: 0.6207\n",
      "Epoch 2/20\n",
      "5398/5398 [==============================] - 28s 5ms/step - loss: 0.7097 - accuracy: 0.6278 - val_loss: 0.6747 - val_accuracy: 0.6504\n",
      "Epoch 3/20\n",
      "5398/5398 [==============================] - 28s 5ms/step - loss: 0.6785 - accuracy: 0.6665 - val_loss: 0.6575 - val_accuracy: 0.6711\n",
      "Epoch 4/20\n",
      "5398/5398 [==============================] - 28s 5ms/step - loss: 0.6625 - accuracy: 0.6647 - val_loss: 0.6646 - val_accuracy: 0.6504\n",
      "Epoch 5/20\n",
      "5398/5398 [==============================] - 28s 5ms/step - loss: 0.6581 - accuracy: 0.6721 - val_loss: 0.6438 - val_accuracy: 0.6711\n",
      "Epoch 6/20\n",
      "5398/5398 [==============================] - 28s 5ms/step - loss: 0.6447 - accuracy: 0.6708 - val_loss: 0.6412 - val_accuracy: 0.6741\n",
      "Epoch 7/20\n",
      "5398/5398 [==============================] - 28s 5ms/step - loss: 0.6390 - accuracy: 0.6793 - val_loss: 0.6275 - val_accuracy: 0.6674\n",
      "Epoch 8/20\n",
      "5398/5398 [==============================] - 29s 5ms/step - loss: 0.6298 - accuracy: 0.6775 - val_loss: 0.6206 - val_accuracy: 0.6815\n",
      "Epoch 9/20\n",
      "5398/5398 [==============================] - 35s 7ms/step - loss: 0.6234 - accuracy: 0.6897 - val_loss: 0.6278 - val_accuracy: 0.6852\n",
      "Epoch 10/20\n",
      "5398/5398 [==============================] - 38s 7ms/step - loss: 0.6356 - accuracy: 0.6706 - val_loss: 0.6269 - val_accuracy: 0.6674\n",
      "Epoch 11/20\n",
      "5398/5398 [==============================] - 37s 7ms/step - loss: 0.6226 - accuracy: 0.6891 - val_loss: 0.6086 - val_accuracy: 0.6815\n",
      "Epoch 12/20\n",
      "5398/5398 [==============================] - 38s 7ms/step - loss: 0.6151 - accuracy: 0.6938 - val_loss: 0.6043 - val_accuracy: 0.6911\n",
      "Epoch 13/20\n",
      "5398/5398 [==============================] - 36s 7ms/step - loss: 0.6069 - accuracy: 0.6988 - val_loss: 0.6017 - val_accuracy: 0.6889\n",
      "Epoch 14/20\n",
      "5398/5398 [==============================] - 33s 6ms/step - loss: 0.6010 - accuracy: 0.7012 - val_loss: 0.6017 - val_accuracy: 0.6911\n",
      "Epoch 15/20\n",
      "5398/5398 [==============================] - 29s 5ms/step - loss: 0.6076 - accuracy: 0.6973 - val_loss: 0.6012 - val_accuracy: 0.6889\n",
      "Epoch 16/20\n",
      "5398/5398 [==============================] - 29s 5ms/step - loss: 0.6037 - accuracy: 0.7095 - val_loss: 0.5924 - val_accuracy: 0.6978\n",
      "Epoch 17/20\n",
      "5398/5398 [==============================] - 29s 5ms/step - loss: 0.6048 - accuracy: 0.7051 - val_loss: 0.5973 - val_accuracy: 0.6911\n",
      "Epoch 18/20\n",
      "5398/5398 [==============================] - 29s 5ms/step - loss: 0.6012 - accuracy: 0.7097 - val_loss: 0.5889 - val_accuracy: 0.7081\n",
      "Epoch 19/20\n",
      "5398/5398 [==============================] - 28s 5ms/step - loss: 0.5916 - accuracy: 0.7127 - val_loss: 0.5884 - val_accuracy: 0.6978\n",
      "Epoch 20/20\n",
      "5398/5398 [==============================] - 33s 6ms/step - loss: 0.5864 - accuracy: 0.7195 - val_loss: 0.5926 - val_accuracy: 0.7044\n",
      "5398/5398 [==============================] - 9s 2ms/step\n",
      "Train loss:  0.5962804774082604\n",
      "Train accuracy:  0.7080399990081787\n",
      "----------------------------------------------------------------------\n",
      "1350/1350 [==============================] - 2s 1ms/step\n",
      "Val loss:  0.5926436153164616\n",
      "Val accuracy:  0.7044444680213928\n",
      "----------------------------------------------------------------------\n",
      "------------------------------------------------------------------------\n",
      "Training for fold 2 ...\n",
      "Train on 5398 samples, validate on 1350 samples\n",
      "Epoch 1/20\n",
      "5398/5398 [==============================] - 39s 7ms/step - loss: 0.7655 - accuracy: 0.5797 - val_loss: 0.7894 - val_accuracy: 0.6081\n",
      "Epoch 2/20\n",
      "5398/5398 [==============================] - 29s 5ms/step - loss: 0.7126 - accuracy: 0.6434 - val_loss: 0.7272 - val_accuracy: 0.6244\n",
      "Epoch 3/20\n",
      "5398/5398 [==============================] - 36s 7ms/step - loss: 0.6873 - accuracy: 0.6547 - val_loss: 0.6815 - val_accuracy: 0.6556\n",
      "Epoch 4/20\n",
      "5398/5398 [==============================] - 36s 7ms/step - loss: 0.6783 - accuracy: 0.6614 - val_loss: 0.6746 - val_accuracy: 0.6548\n",
      "Epoch 5/20\n",
      "5398/5398 [==============================] - 38s 7ms/step - loss: 0.6603 - accuracy: 0.6654 - val_loss: 0.6651 - val_accuracy: 0.6600\n",
      "Epoch 6/20\n",
      "5398/5398 [==============================] - 32s 6ms/step - loss: 0.6654 - accuracy: 0.6541 - val_loss: 0.6678 - val_accuracy: 0.6570\n",
      "Epoch 7/20\n",
      "5398/5398 [==============================] - 36s 7ms/step - loss: 0.6506 - accuracy: 0.6728 - val_loss: 0.6539 - val_accuracy: 0.6674\n",
      "Epoch 8/20\n",
      "5398/5398 [==============================] - 31s 6ms/step - loss: 0.6438 - accuracy: 0.6725 - val_loss: 0.6511 - val_accuracy: 0.6659\n",
      "Epoch 9/20\n",
      "5398/5398 [==============================] - 30s 6ms/step - loss: 0.6420 - accuracy: 0.6706 - val_loss: 0.6440 - val_accuracy: 0.6807\n",
      "Epoch 10/20\n",
      "5398/5398 [==============================] - 36s 7ms/step - loss: 0.6347 - accuracy: 0.6743 - val_loss: 0.6394 - val_accuracy: 0.6793\n",
      "Epoch 11/20\n",
      "5398/5398 [==============================] - 34s 6ms/step - loss: 0.6293 - accuracy: 0.6841 - val_loss: 0.6323 - val_accuracy: 0.6844\n",
      "Epoch 12/20\n",
      "5398/5398 [==============================] - 32s 6ms/step - loss: 0.6184 - accuracy: 0.6849 - val_loss: 0.6456 - val_accuracy: 0.6667\n",
      "Epoch 13/20\n",
      "5398/5398 [==============================] - 33s 6ms/step - loss: 0.6117 - accuracy: 0.6923 - val_loss: 0.6318 - val_accuracy: 0.6837\n",
      "Epoch 14/20\n",
      "5398/5398 [==============================] - 32s 6ms/step - loss: 0.6166 - accuracy: 0.6893 - val_loss: 0.6319 - val_accuracy: 0.6844\n",
      "Epoch 15/20\n",
      "5398/5398 [==============================] - 32s 6ms/step - loss: 0.6063 - accuracy: 0.7047 - val_loss: 0.6065 - val_accuracy: 0.6837\n",
      "Epoch 16/20\n",
      "5398/5398 [==============================] - 34s 6ms/step - loss: 0.5970 - accuracy: 0.7088 - val_loss: 0.6137 - val_accuracy: 0.6896\n",
      "Epoch 17/20\n",
      "5398/5398 [==============================] - 33s 6ms/step - loss: 0.5952 - accuracy: 0.7106 - val_loss: 0.6104 - val_accuracy: 0.6926\n",
      "Epoch 18/20\n",
      "5398/5398 [==============================] - 32s 6ms/step - loss: 0.6004 - accuracy: 0.7069 - val_loss: 0.6046 - val_accuracy: 0.7007\n",
      "Epoch 19/20\n",
      "5398/5398 [==============================] - 33s 6ms/step - loss: 0.5940 - accuracy: 0.7108 - val_loss: 0.6185 - val_accuracy: 0.6844\n",
      "Epoch 20/20\n",
      "5398/5398 [==============================] - 32s 6ms/step - loss: 0.5922 - accuracy: 0.7073 - val_loss: 0.6018 - val_accuracy: 0.6911\n",
      "5398/5398 [==============================] - 8s 2ms/step\n",
      "Train loss:  0.5781888011518608\n",
      "Train accuracy:  0.7185994982719421\n",
      "----------------------------------------------------------------------\n",
      "1350/1350 [==============================] - 2s 2ms/step\n",
      "Val loss:  0.6018155544775504\n",
      "Val accuracy:  0.6911110877990723\n",
      "----------------------------------------------------------------------\n",
      "------------------------------------------------------------------------\n",
      "Training for fold 3 ...\n",
      "Train on 5398 samples, validate on 1350 samples\n",
      "Epoch 1/20\n",
      "5398/5398 [==============================] - 46s 8ms/step - loss: 0.7814 - accuracy: 0.5402 - val_loss: 0.7213 - val_accuracy: 0.6526\n",
      "Epoch 2/20\n",
      "5398/5398 [==============================] - 35s 7ms/step - loss: 0.7005 - accuracy: 0.6541 - val_loss: 0.6929 - val_accuracy: 0.6652\n",
      "Epoch 3/20\n",
      "5398/5398 [==============================] - 36s 7ms/step - loss: 0.6838 - accuracy: 0.6580 - val_loss: 0.6809 - val_accuracy: 0.6659\n",
      "Epoch 4/20\n",
      "5398/5398 [==============================] - 33s 6ms/step - loss: 0.6690 - accuracy: 0.6667 - val_loss: 0.6665 - val_accuracy: 0.6644\n",
      "Epoch 5/20\n",
      "5398/5398 [==============================] - 34s 6ms/step - loss: 0.6606 - accuracy: 0.6706 - val_loss: 0.6589 - val_accuracy: 0.6556\n",
      "Epoch 6/20\n",
      "5398/5398 [==============================] - 34s 6ms/step - loss: 0.6495 - accuracy: 0.6736 - val_loss: 0.6599 - val_accuracy: 0.6615\n",
      "Epoch 7/20\n",
      "5398/5398 [==============================] - 33s 6ms/step - loss: 0.6461 - accuracy: 0.6745 - val_loss: 0.6460 - val_accuracy: 0.6659\n",
      "Epoch 8/20\n",
      "5398/5398 [==============================] - 37s 7ms/step - loss: 0.6354 - accuracy: 0.6819 - val_loss: 0.6391 - val_accuracy: 0.6763\n"
     ]
    },
    {
     "name": "stdout",
     "output_type": "stream",
     "text": [
      "Epoch 9/20\n",
      "5398/5398 [==============================] - 38s 7ms/step - loss: 0.6303 - accuracy: 0.6790 - val_loss: 0.6250 - val_accuracy: 0.6807\n",
      "Epoch 10/20\n",
      "5398/5398 [==============================] - 34s 6ms/step - loss: 0.6219 - accuracy: 0.6890 - val_loss: 0.6252 - val_accuracy: 0.6919\n",
      "Epoch 11/20\n",
      "5398/5398 [==============================] - 36s 7ms/step - loss: 0.6209 - accuracy: 0.6938 - val_loss: 0.6151 - val_accuracy: 0.6889\n",
      "Epoch 12/20\n",
      "5398/5398 [==============================] - 37s 7ms/step - loss: 0.6101 - accuracy: 0.6888 - val_loss: 0.6190 - val_accuracy: 0.6904\n",
      "Epoch 13/20\n",
      "5398/5398 [==============================] - 41s 8ms/step - loss: 0.6070 - accuracy: 0.6953 - val_loss: 0.6112 - val_accuracy: 0.7022\n",
      "Epoch 14/20\n",
      "5398/5398 [==============================] - 37s 7ms/step - loss: 0.5970 - accuracy: 0.7110 - val_loss: 0.6079 - val_accuracy: 0.6978\n",
      "Epoch 15/20\n",
      "5398/5398 [==============================] - 46s 8ms/step - loss: 0.6047 - accuracy: 0.7016 - val_loss: 0.6153 - val_accuracy: 0.6889\n",
      "Epoch 16/20\n",
      "5398/5398 [==============================] - 42s 8ms/step - loss: 0.6025 - accuracy: 0.7038 - val_loss: 0.6033 - val_accuracy: 0.7022\n",
      "Epoch 17/20\n",
      "5398/5398 [==============================] - 37s 7ms/step - loss: 0.5923 - accuracy: 0.7155 - val_loss: 0.5991 - val_accuracy: 0.7133\n",
      "Epoch 18/20\n",
      "5398/5398 [==============================] - 35s 6ms/step - loss: 0.5898 - accuracy: 0.7090 - val_loss: 0.6055 - val_accuracy: 0.7000\n",
      "Epoch 19/20\n",
      "5398/5398 [==============================] - 36s 7ms/step - loss: 0.5884 - accuracy: 0.7104 - val_loss: 0.6012 - val_accuracy: 0.7007\n",
      "Epoch 20/20\n",
      "5398/5398 [==============================] - 38s 7ms/step - loss: 0.5852 - accuracy: 0.7125 - val_loss: 0.5942 - val_accuracy: 0.7141\n",
      "5398/5398 [==============================] - 11s 2ms/step\n",
      "Train loss:  0.5815343034183507\n",
      "Train accuracy:  0.7132270932197571\n",
      "----------------------------------------------------------------------\n",
      "1350/1350 [==============================] - 3s 2ms/step\n",
      "Val loss:  0.5942034248069481\n",
      "Val accuracy:  0.7140740752220154\n",
      "----------------------------------------------------------------------\n",
      "------------------------------------------------------------------------\n",
      "Training for fold 4 ...\n",
      "Train on 5399 samples, validate on 1349 samples\n",
      "Epoch 1/20\n",
      "5399/5399 [==============================] - 48s 9ms/step - loss: 0.7799 - accuracy: 0.5425 - val_loss: 0.7180 - val_accuracy: 0.6553\n",
      "Epoch 2/20\n",
      "5399/5399 [==============================] - 36s 7ms/step - loss: 0.7014 - accuracy: 0.6509 - val_loss: 0.6882 - val_accuracy: 0.6664\n",
      "Epoch 3/20\n",
      "5399/5399 [==============================] - 37s 7ms/step - loss: 0.6858 - accuracy: 0.6572 - val_loss: 0.6717 - val_accuracy: 0.6716\n",
      "Epoch 4/20\n",
      "5399/5399 [==============================] - 33s 6ms/step - loss: 0.6728 - accuracy: 0.6625 - val_loss: 0.6607 - val_accuracy: 0.6761\n",
      "Epoch 5/20\n",
      "5399/5399 [==============================] - 37s 7ms/step - loss: 0.6577 - accuracy: 0.6664 - val_loss: 0.6720 - val_accuracy: 0.6397\n",
      "Epoch 6/20\n",
      "5399/5399 [==============================] - 36s 7ms/step - loss: 0.6615 - accuracy: 0.6586 - val_loss: 0.6533 - val_accuracy: 0.6672\n",
      "Epoch 7/20\n",
      "5399/5399 [==============================] - 35s 6ms/step - loss: 0.6473 - accuracy: 0.6679 - val_loss: 0.6524 - val_accuracy: 0.6635\n",
      "Epoch 8/20\n",
      "5399/5399 [==============================] - 39s 7ms/step - loss: 0.6418 - accuracy: 0.6714 - val_loss: 0.6432 - val_accuracy: 0.6649\n",
      "Epoch 9/20\n",
      "5399/5399 [==============================] - 35s 6ms/step - loss: 0.6333 - accuracy: 0.6755 - val_loss: 0.6450 - val_accuracy: 0.6709\n",
      "Epoch 10/20\n",
      "5399/5399 [==============================] - 37s 7ms/step - loss: 0.6288 - accuracy: 0.6779 - val_loss: 0.6298 - val_accuracy: 0.6805\n",
      "Epoch 11/20\n",
      "5399/5399 [==============================] - 35s 7ms/step - loss: 0.6181 - accuracy: 0.6924 - val_loss: 0.6262 - val_accuracy: 0.6820\n",
      "Epoch 12/20\n",
      "5399/5399 [==============================] - 36s 7ms/step - loss: 0.6162 - accuracy: 0.6857 - val_loss: 0.6213 - val_accuracy: 0.6968\n",
      "Epoch 13/20\n",
      "5399/5399 [==============================] - 35s 6ms/step - loss: 0.6083 - accuracy: 0.7001 - val_loss: 0.6321 - val_accuracy: 0.6879\n",
      "Epoch 14/20\n",
      "5399/5399 [==============================] - 36s 7ms/step - loss: 0.6021 - accuracy: 0.7018 - val_loss: 0.6230 - val_accuracy: 0.6968\n",
      "Epoch 15/20\n",
      "5399/5399 [==============================] - 36s 7ms/step - loss: 0.5992 - accuracy: 0.6979 - val_loss: 0.6114 - val_accuracy: 0.6938\n",
      "Epoch 16/20\n",
      "5399/5399 [==============================] - 32s 6ms/step - loss: 0.5951 - accuracy: 0.7051 - val_loss: 0.6217 - val_accuracy: 0.6812\n",
      "Epoch 17/20\n",
      "5399/5399 [==============================] - 36s 7ms/step - loss: 0.6033 - accuracy: 0.6961 - val_loss: 0.6195 - val_accuracy: 0.6983\n",
      "Epoch 18/20\n",
      "5399/5399 [==============================] - 34s 6ms/step - loss: 0.5937 - accuracy: 0.7081 - val_loss: 0.6218 - val_accuracy: 0.6924\n",
      "Epoch 19/20\n",
      "5399/5399 [==============================] - 35s 6ms/step - loss: 0.5896 - accuracy: 0.7111 - val_loss: 0.6123 - val_accuracy: 0.7079\n",
      "Epoch 20/20\n",
      "5399/5399 [==============================] - 36s 7ms/step - loss: 0.5850 - accuracy: 0.7161 - val_loss: 0.6389 - val_accuracy: 0.7020\n",
      "5399/5399 [==============================] - 12s 2ms/step\n",
      "Train loss:  0.6033770983738908\n",
      "Train accuracy:  0.703834056854248\n",
      "----------------------------------------------------------------------\n",
      "1349/1349 [==============================] - 3s 2ms/step\n",
      "Val loss:  0.6389218019590809\n",
      "Val accuracy:  0.7020015120506287\n",
      "----------------------------------------------------------------------\n",
      "------------------------------------------------------------------------\n",
      "Training for fold 5 ...\n",
      "Train on 5399 samples, validate on 1349 samples\n",
      "Epoch 1/20\n",
      "5399/5399 [==============================] - 53s 10ms/step - loss: 0.7678 - accuracy: 0.5940 - val_loss: 0.7325 - val_accuracy: 0.6279\n",
      "Epoch 2/20\n",
      "5399/5399 [==============================] - 36s 7ms/step - loss: 0.7065 - accuracy: 0.6475 - val_loss: 0.6970 - val_accuracy: 0.6509\n",
      "Epoch 3/20\n",
      "5399/5399 [==============================] - 39s 7ms/step - loss: 0.6836 - accuracy: 0.6609 - val_loss: 0.6850 - val_accuracy: 0.6605\n",
      "Epoch 4/20\n",
      "5399/5399 [==============================] - 38s 7ms/step - loss: 0.6669 - accuracy: 0.6653 - val_loss: 0.6840 - val_accuracy: 0.6501\n",
      "Epoch 5/20\n",
      "5399/5399 [==============================] - 37s 7ms/step - loss: 0.6586 - accuracy: 0.6727 - val_loss: 0.6760 - val_accuracy: 0.6597\n",
      "Epoch 6/20\n",
      "5399/5399 [==============================] - 38s 7ms/step - loss: 0.6550 - accuracy: 0.6703 - val_loss: 0.6631 - val_accuracy: 0.6620\n",
      "Epoch 7/20\n",
      "5399/5399 [==============================] - 38s 7ms/step - loss: 0.6462 - accuracy: 0.6744 - val_loss: 0.6577 - val_accuracy: 0.6635\n",
      "Epoch 8/20\n",
      "5399/5399 [==============================] - 38s 7ms/step - loss: 0.6405 - accuracy: 0.6742 - val_loss: 0.6526 - val_accuracy: 0.6716\n",
      "Epoch 9/20\n",
      "5399/5399 [==============================] - 39s 7ms/step - loss: 0.6380 - accuracy: 0.6677 - val_loss: 0.6481 - val_accuracy: 0.6723\n",
      "Epoch 10/20\n",
      "5399/5399 [==============================] - 40s 7ms/step - loss: 0.6261 - accuracy: 0.6875 - val_loss: 0.6497 - val_accuracy: 0.6590\n",
      "Epoch 11/20\n",
      "5399/5399 [==============================] - 40s 7ms/step - loss: 0.6202 - accuracy: 0.6903 - val_loss: 0.6886 - val_accuracy: 0.6190\n",
      "Epoch 12/20\n",
      "5399/5399 [==============================] - 40s 7ms/step - loss: 0.6251 - accuracy: 0.6811 - val_loss: 0.6451 - val_accuracy: 0.6723\n",
      "Epoch 13/20\n",
      "5399/5399 [==============================] - 37s 7ms/step - loss: 0.6132 - accuracy: 0.6859 - val_loss: 0.6392 - val_accuracy: 0.6701\n",
      "Epoch 14/20\n",
      "5399/5399 [==============================] - 36s 7ms/step - loss: 0.6003 - accuracy: 0.7031 - val_loss: 0.6303 - val_accuracy: 0.6768\n",
      "Epoch 15/20\n",
      "5399/5399 [==============================] - 34s 6ms/step - loss: 0.5962 - accuracy: 0.7049 - val_loss: 0.6270 - val_accuracy: 0.6872\n",
      "Epoch 16/20\n",
      "5399/5399 [==============================] - 34s 6ms/step - loss: 0.6087 - accuracy: 0.7022 - val_loss: 0.6329 - val_accuracy: 0.6842\n",
      "Epoch 17/20\n",
      "5399/5399 [==============================] - 38s 7ms/step - loss: 0.5978 - accuracy: 0.7051 - val_loss: 0.6607 - val_accuracy: 0.6642\n"
     ]
    },
    {
     "name": "stdout",
     "output_type": "stream",
     "text": [
      "Epoch 18/20\n",
      "5399/5399 [==============================] - 35s 6ms/step - loss: 0.5925 - accuracy: 0.7124 - val_loss: 0.6436 - val_accuracy: 0.6701\n",
      "Epoch 19/20\n",
      "5399/5399 [==============================] - 35s 6ms/step - loss: 0.5885 - accuracy: 0.7135 - val_loss: 0.6210 - val_accuracy: 0.6864\n",
      "Epoch 20/20\n",
      "5399/5399 [==============================] - 35s 7ms/step - loss: 0.5928 - accuracy: 0.7122 - val_loss: 0.6293 - val_accuracy: 0.6723\n",
      "5399/5399 [==============================] - 12s 2ms/step\n",
      "Train loss:  0.5886034377417447\n",
      "Train accuracy:  0.7119836807250977\n",
      "----------------------------------------------------------------------\n",
      "1349/1349 [==============================] - 3s 2ms/step\n",
      "Val loss:  0.6293220210287463\n",
      "Val accuracy:  0.6723498702049255\n",
      "----------------------------------------------------------------------\n"
     ]
    }
   ],
   "source": [
    "kfold = KFold(n_splits=5, shuffle=True)\n",
    "\n",
    "# K-fold Cross Validation model evaluation\n",
    "fold_no = 1\n",
    "\n",
    "acc_per_fold=[]\n",
    "loss_per_fold=[]\n",
    "measure = []\n",
    "\n",
    "for train, test in kfold.split(inputs, targets):\n",
    "    x_input = Input(shape=(41,))\n",
    "\n",
    "    emb = Embedding(24, 64, input_length=max_length)(x_input)\n",
    "\n",
    "    bi_rnn1 = Bidirectional(LSTM(64, kernel_regularizer=l2(0.0001), recurrent_regularizer=l2(0.0001), bias_regularizer=l2(0.0001), return_sequences=True))(emb)\n",
    "\n",
    "    dropout1 = Dropout(0.1)(bi_rnn1)\n",
    "\n",
    "    bi_rnn2 = Bidirectional(LSTM(32, kernel_regularizer=l2(0.0001), recurrent_regularizer=l2(0.0001), bias_regularizer=l2(0.0001), return_sequences=True))(dropout1)\n",
    "\n",
    "    dropout2 = Dropout(0.2)(bi_rnn2)\n",
    "\n",
    "    bi_rnn3 = Bidirectional(LSTM(24, kernel_regularizer=l2(0.0001), recurrent_regularizer=l2(0.0001), bias_regularizer=l2(0.0001), return_sequences=True))(dropout2)\n",
    "\n",
    "    dropout3 = Dropout(0.2)(bi_rnn3)\n",
    "\n",
    "    maxpooling=MaxPooling1D(pool_size=2)(dropout3)\n",
    "\n",
    "    flatten = Flatten()(maxpooling)\n",
    "\n",
    "    x = Dropout(0.2)(flatten)\n",
    "    # softmax classifier\n",
    "    x_output = Dense(2, activation='softmax')(x)\n",
    "\n",
    "    model = Model(inputs=x_input, outputs=x_output)\n",
    "    model.compile(optimizer='adam', loss='categorical_crossentropy', metrics=['accuracy'])\n",
    "#     model.summary()\n",
    "    \n",
    "    print('------------------------------------------------------------------------')\n",
    "    print(f'Training for fold {fold_no} ...')\n",
    "    fold_no += 1\n",
    "    history = model.fit(\n",
    "    inputs[train], targets[train],\n",
    "    epochs=20, batch_size=256,\n",
    "    validation_data=(inputs[test], targets[test]),\n",
    "#     callbacks=[es]\n",
    "    )\n",
    "    \n",
    "    scores=display_model_score(model,\n",
    "    [inputs[train], targets[train]],\n",
    "    [inputs[test], targets[test]],\n",
    "    256)\n",
    "    \n",
    "    target_hat = model.predict(inputs[test])\n",
    "    acc_per_fold.append(scores[1] * 100)\n",
    "    loss_per_fold.append(scores[0])\n",
    "    measure.append(scores)"
   ]
  },
  {
   "cell_type": "code",
   "execution_count": 46,
   "id": "3b69ee97",
   "metadata": {},
   "outputs": [
    {
     "name": "stdout",
     "output_type": "stream",
     "text": [
      "[70.44444680213928, 69.11110877990723, 71.40740752220154, 70.20015120506287, 67.23498702049255]\n"
     ]
    }
   ],
   "source": [
    "print (acc_per_fold)"
   ]
  },
  {
   "cell_type": "code",
   "execution_count": 47,
   "id": "4c3d128d",
   "metadata": {},
   "outputs": [
    {
     "name": "stdout",
     "output_type": "stream",
     "text": [
      "[0.5926436153164616, 0.6018155544775504, 0.5942034248069481, 0.6389218019590809, 0.6293220210287463]\n"
     ]
    }
   ],
   "source": [
    "print(loss_per_fold)"
   ]
  },
  {
   "cell_type": "code",
   "execution_count": 48,
   "id": "278c0816",
   "metadata": {},
   "outputs": [
    {
     "name": "stdout",
     "output_type": "stream",
     "text": [
      "[(0.5926436153164616, 0.7044444680213928), (0.6018155544775504, 0.6911110877990723), (0.5942034248069481, 0.7140740752220154), (0.6389218019590809, 0.7020015120506287), (0.6293220210287463, 0.6723498702049255)]\n"
     ]
    }
   ],
   "source": [
    "print (measure)"
   ]
  },
  {
   "cell_type": "code",
   "execution_count": 49,
   "id": "2b2a18c7",
   "metadata": {},
   "outputs": [
    {
     "data": {
      "image/png": "[encoded data removed]",
      "text/plain": [
       "<Figure size 864x360 with 2 Axes>"
      ]
     },
     "metadata": {},
     "output_type": "display_data"
    }
   ],
   "source": [
    "plot_history(history)"
   ]
  },
  {
   "cell_type": "code",
   "execution_count": null,
   "id": "18593d7a",
   "metadata": {},
   "outputs": [],
   "source": []
  },
  {
   "cell_type": "code",
   "execution_count": null,
   "id": "b0d48632",
   "metadata": {},
   "outputs": [],
   "source": []
  },
  {
   "cell_type": "code",
   "execution_count": null,
   "id": "72253f1a",
   "metadata": {},
   "outputs": [],
   "source": []
  },
  {
   "cell_type": "code",
   "execution_count": null,
   "id": "6258a1c9",
   "metadata": {},
   "outputs": [],
   "source": []
  }
 ],
 "metadata": {
  "kernelspec": {
   "display_name": "Python 3 (ipykernel)",
   "language": "python",
   "name": "python3"
  },
  "language_info": {
   "codemirror_mode": {
    "name": "ipython",
    "version": 3
   },
   "file_extension": ".py",
   "mimetype": "text/x-python",
   "name": "python",
   "nbconvert_exporter": "python",
   "pygments_lexer": "ipython3",
   "version": "3.7.9"
  }
 },
 "nbformat": 4,
 "nbformat_minor": 5
}
